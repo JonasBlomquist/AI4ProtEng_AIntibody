{
 "cells": [
  {
   "cell_type": "markdown",
   "metadata": {},
   "source": [
    "# Comparing Ab-Ag complex structure predictions"
   ]
  },
  {
   "cell_type": "code",
   "execution_count": null,
   "metadata": {},
   "outputs": [],
   "source": []
  },
  {
   "cell_type": "markdown",
   "metadata": {},
   "source": [
    "## Imports"
   ]
  },
  {
   "cell_type": "code",
   "execution_count": 3,
   "metadata": {},
   "outputs": [
    {
     "name": "stderr",
     "output_type": "stream",
     "text": [
      "/anaconda/envs/dockq/lib/python3.13/site-packages/tqdm/auto.py:21: TqdmWarning: IProgress not found. Please update jupyter and ipywidgets. See https://ipywidgets.readthedocs.io/en/stable/user_install.html\n",
      "  from .autonotebook import tqdm as notebook_tqdm\n"
     ]
    }
   ],
   "source": [
    "import os\n",
    "import sys\n",
    "import numpy as np\n",
    "import pandas as pd\n",
    "import Bio\n",
    "from Bio import PDB\n",
    "from Bio.Align import PairwiseAligner\n",
    "from Bio.PDB import PDBParser, MMCIFParser, StructureBuilder\n",
    "from Bio.PDB.PDBIO import PDBIO\n",
    "from Bio.PDB.Polypeptide import PPBuilder\n",
    "from Bio.Seq import Seq\n",
    "from Bio.SeqUtils import seq1\n",
    "from Bio.SeqIO import parse\n",
    "from scipy.spatial import KDTree\n",
    "from DockQ.DockQ import load_PDB, run_on_all_native_interfaces\n"
   ]
  },
  {
   "cell_type": "markdown",
   "metadata": {},
   "source": [
    "## Functions"
   ]
  },
  {
   "cell_type": "code",
   "execution_count": 9,
   "metadata": {},
   "outputs": [],
   "source": [
    "def get_contacts(chain1, chain2, cutoff=5.0):\n",
    "    if not isinstance(chain1, list):\n",
    "        atoms1 = [atom for atom in chain1.get_atoms() if atom.element != 'H']\n",
    "    else:\n",
    "        atoms1 = [atom for res in chain1 for atom in res.get_atoms()]\n",
    "    if not isinstance(chain2, list):\n",
    "        atoms2 = [atom for atom in chain2.get_atoms() if atom.element != 'H']\n",
    "    else:\n",
    "        atoms2 = chain2\n",
    "    contacts = []\n",
    "    for atom1 in atoms1:\n",
    "        for atom2 in atoms2:\n",
    "            if atom1 - atom2 < cutoff:\n",
    "                contacts.append((atom1, atom2))\n",
    "    return contacts\n",
    "\n",
    "def get_cdr_residues(chain, cdr_ranges):\n",
    "    cdr_residues = []\n",
    "    for start, end in cdr_ranges:\n",
    "        for residue in chain:\n",
    "            if start <= residue.id[1] <= end:\n",
    "                cdr_residues.append(residue)\n",
    "\n",
    "    return cdr_residues\n",
    "\n",
    "def get_atom_coordinates(residues):\n",
    "    atoms = [atom for residue in residues for atom in residue.get_atoms() if atom.element != 'H']\n",
    "    coords =  np.array([atom.coord for atom in atoms])\n",
    "    return atoms, coords\n",
    "\n",
    "def identify_antibody_chains(pdb_file, heavy_chain_seq, light_chain_seq, verbose=False):\n",
    "    parser = PDBParser(QUIET=True)\n",
    "    structure = parser.get_structure('structure', pdb_file)\n",
    "\n",
    "    heavy_cdr_ranges=[(27,38), (56,65), (105,117)]\n",
    "    light_cdr_ranges=[(27,38), (56,65), (105,117)]\n",
    "    cutoff=5.0\n",
    "\n",
    "    pdb = PPBuilder()\n",
    "    chain_sequences = dict()\n",
    "\n",
    "    chain_coords_dict = dict()\n",
    "    for model in structure:\n",
    "        for chain in model:\n",
    "            seq = ''.join([seq1(residue.resname) for residue in chain if PDB.is_aa(residue, standard=True)])\n",
    "            if len(seq) > 20:\n",
    "                chain_sequences[chain.id] = seq\n",
    "                chain_atoms = [atom for atom in chain.get_atoms() if atom.element != 'H']\n",
    "                chain_coords = np.array([atom.coord for atom in chain_atoms])\n",
    "                chain_coords_dict[chain.id] = chain_coords\n",
    "\n",
    "    heavy_chain_id, light_chain_id = [], []\n",
    "    for chain_id, sequence in chain_sequences.items():\n",
    "        if heavy_chain_seq in sequence or sequence in heavy_chain_seq:\n",
    "            heavy_chain_id.append(chain_id)\n",
    "        elif light_chain_seq in sequence or sequence in light_chain_seq:\n",
    "            light_chain_id.append(chain_id)\n",
    "\n",
    "    if heavy_chain_id is None or light_chain_id is None:\n",
    "        raise ValueError('could not identify heavy or light chain')\n",
    "    \n",
    "    paired_chains = dict()\n",
    "    if verbose:\n",
    "        print('Pairing antibody chains')\n",
    "\n",
    "    for hc_id in heavy_chain_id:\n",
    "        heavy_chain = structure[0][hc_id]\n",
    "        vh_residues = get_cdr_residues(heavy_chain, [(1,128)])\n",
    "        heavy_atoms, heavy_coords = get_atom_coordinates(vh_residues)\n",
    "        heavy_tree = KDTree(heavy_coords)\n",
    "        for lc_id in light_chain_id:\n",
    "            light_chain = structure[0][lc_id]\n",
    "            vl_residues = get_cdr_residues(light_chain, [(1,128)])\n",
    "            light_atoms, light_coords = get_atom_coordinates(vl_residues)\n",
    "            contacts = heavy_tree.query_ball_point(light_coords, cutoff)\n",
    "            total_contacts = sum([len(contact) for contact in contacts])\n",
    "\n",
    "            if total_contacts > 0:\n",
    "                paired_chains[(hc_id, lc_id)] = []\n",
    "                break\n",
    "\n",
    "    if verbose:\n",
    "        print('Finding antigen per antibody complex')\n",
    "    \n",
    "    for hc_id, lc_id in paired_chains.keys():\n",
    "        heavy_chain = structure[0][hc_id]\n",
    "        light_chain = structure[0][lc_id]\n",
    "        heavy_cdr_residues = get_cdr_residues(heavy_chain, heavy_cdr_ranges)\n",
    "        light_cdr_residues = get_cdr_residues(light_chain, light_cdr_ranges)\n",
    "        heavy_atoms, heavy_coords = get_atom_coordinates(heavy_cdr_residues)\n",
    "        light_atoms, light_coords = get_atom_coordinates(light_cdr_residues)\n",
    "\n",
    "        heavy_tree = KDTree(heavy_coords)\n",
    "        light_tree = KDTree(light_coords)\n",
    "\n",
    "        for model in structure:\n",
    "            for chain in model:\n",
    "                if chain.id in heavy_chain_id + light_chain_id:\n",
    "                    continue\n",
    "                if chain.id not in chain_sequences.keys():\n",
    "                    continue\n",
    "\n",
    "                chain_coords = chain_coords_dict[chain.id]\n",
    "                heavy_contacts = heavy_tree.query_ball_point(chain_coords, cutoff)\n",
    "                light_contacts = light_tree.query_ball_point(chain_coords, cutoff)\n",
    "\n",
    "                total_contacts = sum(len(contact) for contact in heavy_contacts) + sum(len(contact) for contact in light_contacts)\n",
    "\n",
    "                if total_contacts > 0:\n",
    "                    paired_chains[(hc_id, lc_id)].append((chain.id, total_contacts))\n",
    "\n",
    "        for ab_pair, ag_list in paired_chains.items():\n",
    "            if len(ag_list) == 0:\n",
    "                ag = None\n",
    "            elif len(ag_list) > 1:\n",
    "                ag = sorted(ag_list, key=lambda x: x[1], reverse=True)[0]\n",
    "            else:\n",
    "                ag = ag_list[0]\n",
    "            paired_chains[ab_pair] = ag\n",
    "\n",
    "        return paired_chains"
   ]
  },
  {
   "cell_type": "code",
   "execution_count": 10,
   "metadata": {},
   "outputs": [],
   "source": [
    "pdb_parser = PDBParser()\n",
    "aligner  = PairwiseAligner()\n",
    "aligner.gap_score = -2\n",
    "aligner.left_gap_score = 0\n",
    "aligner.right_gap_score = 0"
   ]
  },
  {
   "cell_type": "code",
   "execution_count": 11,
   "metadata": {},
   "outputs": [
    {
     "name": "stdout",
     "output_type": "stream",
     "text": [
      "2G75\n",
      "2GHW\n"
     ]
    },
    {
     "name": "stderr",
     "output_type": "stream",
     "text": [
      "/anaconda/envs/dockq/lib/python3.13/site-packages/Bio/PDB/StructureBuilder.py:100: PDBConstructionWarning: WARNING: Chain A is discontinuous at line 7017.\n",
      "  warnings.warn(\n",
      "/anaconda/envs/dockq/lib/python3.13/site-packages/Bio/PDB/StructureBuilder.py:100: PDBConstructionWarning: WARNING: Chain B is discontinuous at line 7067.\n",
      "  warnings.warn(\n",
      "/anaconda/envs/dockq/lib/python3.13/site-packages/Bio/PDB/StructureBuilder.py:100: PDBConstructionWarning: WARNING: Chain C is discontinuous at line 7111.\n",
      "  warnings.warn(\n",
      "/anaconda/envs/dockq/lib/python3.13/site-packages/Bio/PDB/StructureBuilder.py:100: PDBConstructionWarning: WARNING: Chain D is discontinuous at line 7155.\n",
      "  warnings.warn(\n",
      "/anaconda/envs/dockq/lib/python3.13/site-packages/Bio/PDB/StructureBuilder.py:100: PDBConstructionWarning: WARNING: Chain C is discontinuous at line 7486.\n",
      "  warnings.warn(\n",
      "/anaconda/envs/dockq/lib/python3.13/site-packages/Bio/PDB/StructureBuilder.py:100: PDBConstructionWarning: WARNING: Chain A is discontinuous at line 7487.\n",
      "  warnings.warn(\n",
      "/anaconda/envs/dockq/lib/python3.13/site-packages/Bio/PDB/StructureBuilder.py:100: PDBConstructionWarning: WARNING: Chain B is discontinuous at line 7599.\n",
      "  warnings.warn(\n",
      "/anaconda/envs/dockq/lib/python3.13/site-packages/Bio/PDB/StructureBuilder.py:100: PDBConstructionWarning: WARNING: Chain C is discontinuous at line 7717.\n",
      "  warnings.warn(\n",
      "/anaconda/envs/dockq/lib/python3.13/site-packages/Bio/PDB/StructureBuilder.py:100: PDBConstructionWarning: WARNING: Chain D is discontinuous at line 7832.\n",
      "  warnings.warn(\n"
     ]
    },
    {
     "name": "stdout",
     "output_type": "stream",
     "text": [
      "3BGF\n"
     ]
    },
    {
     "name": "stderr",
     "output_type": "stream",
     "text": [
      "/anaconda/envs/dockq/lib/python3.13/site-packages/Bio/PDB/StructureBuilder.py:100: PDBConstructionWarning: WARNING: Chain L is discontinuous at line 10190.\n",
      "  warnings.warn(\n",
      "/anaconda/envs/dockq/lib/python3.13/site-packages/Bio/PDB/StructureBuilder.py:100: PDBConstructionWarning: WARNING: Chain H is discontinuous at line 10191.\n",
      "  warnings.warn(\n",
      "/anaconda/envs/dockq/lib/python3.13/site-packages/Bio/PDB/StructureBuilder.py:100: PDBConstructionWarning: WARNING: Chain B is discontinuous at line 10193.\n",
      "  warnings.warn(\n"
     ]
    },
    {
     "name": "stdout",
     "output_type": "stream",
     "text": [
      "4XAK\n"
     ]
    },
    {
     "name": "stderr",
     "output_type": "stream",
     "text": [
      "/anaconda/envs/dockq/lib/python3.13/site-packages/Bio/PDB/StructureBuilder.py:100: PDBConstructionWarning: WARNING: Chain A is discontinuous at line 21077.\n",
      "  warnings.warn(\n",
      "/anaconda/envs/dockq/lib/python3.13/site-packages/Bio/PDB/StructureBuilder.py:100: PDBConstructionWarning: WARNING: Chain L is discontinuous at line 21105.\n",
      "  warnings.warn(\n",
      "/anaconda/envs/dockq/lib/python3.13/site-packages/Bio/PDB/StructureBuilder.py:100: PDBConstructionWarning: WARNING: Chain B is discontinuous at line 21117.\n",
      "  warnings.warn(\n",
      "/anaconda/envs/dockq/lib/python3.13/site-packages/Bio/PDB/StructureBuilder.py:100: PDBConstructionWarning: WARNING: Chain A is discontinuous at line 21145.\n",
      "  warnings.warn(\n",
      "/anaconda/envs/dockq/lib/python3.13/site-packages/Bio/PDB/StructureBuilder.py:100: PDBConstructionWarning: WARNING: Chain H is discontinuous at line 21193.\n",
      "  warnings.warn(\n",
      "/anaconda/envs/dockq/lib/python3.13/site-packages/Bio/PDB/StructureBuilder.py:100: PDBConstructionWarning: WARNING: Chain L is discontinuous at line 21249.\n",
      "  warnings.warn(\n",
      "/anaconda/envs/dockq/lib/python3.13/site-packages/Bio/PDB/StructureBuilder.py:100: PDBConstructionWarning: WARNING: Chain B is discontinuous at line 21328.\n",
      "  warnings.warn(\n",
      "/anaconda/envs/dockq/lib/python3.13/site-packages/Bio/PDB/StructureBuilder.py:100: PDBConstructionWarning: WARNING: Chain D is discontinuous at line 21359.\n",
      "  warnings.warn(\n",
      "/anaconda/envs/dockq/lib/python3.13/site-packages/Bio/PDB/StructureBuilder.py:100: PDBConstructionWarning: WARNING: Chain E is discontinuous at line 21370.\n",
      "  warnings.warn(\n"
     ]
    },
    {
     "name": "stdout",
     "output_type": "stream",
     "text": [
      "4ZPT\n"
     ]
    },
    {
     "name": "stderr",
     "output_type": "stream",
     "text": [
      "/anaconda/envs/dockq/lib/python3.13/site-packages/Bio/PDB/StructureBuilder.py:100: PDBConstructionWarning: WARNING: Chain R is discontinuous at line 20120.\n",
      "  warnings.warn(\n",
      "/anaconda/envs/dockq/lib/python3.13/site-packages/Bio/PDB/StructureBuilder.py:100: PDBConstructionWarning: WARNING: Chain S is discontinuous at line 20148.\n",
      "  warnings.warn(\n",
      "/anaconda/envs/dockq/lib/python3.13/site-packages/Bio/PDB/StructureBuilder.py:100: PDBConstructionWarning: WARNING: Chain A is discontinuous at line 20176.\n",
      "  warnings.warn(\n",
      "/anaconda/envs/dockq/lib/python3.13/site-packages/Bio/PDB/StructureBuilder.py:100: PDBConstructionWarning: WARNING: Chain B is discontinuous at line 20251.\n",
      "  warnings.warn(\n",
      "/anaconda/envs/dockq/lib/python3.13/site-packages/Bio/PDB/StructureBuilder.py:100: PDBConstructionWarning: WARNING: Chain R is discontinuous at line 20306.\n",
      "  warnings.warn(\n",
      "/anaconda/envs/dockq/lib/python3.13/site-packages/Bio/PDB/StructureBuilder.py:100: PDBConstructionWarning: WARNING: Chain H is discontinuous at line 20335.\n",
      "  warnings.warn(\n",
      "/anaconda/envs/dockq/lib/python3.13/site-packages/Bio/PDB/StructureBuilder.py:100: PDBConstructionWarning: WARNING: Chain S is discontinuous at line 20392.\n",
      "  warnings.warn(\n",
      "/anaconda/envs/dockq/lib/python3.13/site-packages/Bio/PDB/StructureBuilder.py:100: PDBConstructionWarning: WARNING: Chain L is discontinuous at line 20411.\n",
      "  warnings.warn(\n"
     ]
    },
    {
     "name": "stdout",
     "output_type": "stream",
     "text": [
      "4ZS6\n"
     ]
    },
    {
     "name": "stderr",
     "output_type": "stream",
     "text": [
      "/anaconda/envs/dockq/lib/python3.13/site-packages/Bio/PDB/StructureBuilder.py:100: PDBConstructionWarning: WARNING: Chain A is discontinuous at line 20443.\n",
      "  warnings.warn(\n",
      "/anaconda/envs/dockq/lib/python3.13/site-packages/Bio/PDB/StructureBuilder.py:100: PDBConstructionWarning: WARNING: Chain B is discontinuous at line 20499.\n",
      "  warnings.warn(\n"
     ]
    },
    {
     "name": "stdout",
     "output_type": "stream",
     "text": [
      "5DO2\n"
     ]
    },
    {
     "name": "stderr",
     "output_type": "stream",
     "text": [
      "/anaconda/envs/dockq/lib/python3.13/site-packages/Bio/PDB/StructureBuilder.py:100: PDBConstructionWarning: WARNING: Chain A is discontinuous at line 20765.\n",
      "  warnings.warn(\n",
      "/anaconda/envs/dockq/lib/python3.13/site-packages/Bio/PDB/StructureBuilder.py:100: PDBConstructionWarning: WARNING: Chain H is discontinuous at line 20803.\n",
      "  warnings.warn(\n",
      "/anaconda/envs/dockq/lib/python3.13/site-packages/Bio/PDB/StructureBuilder.py:100: PDBConstructionWarning: WARNING: Chain L is discontinuous at line 20834.\n",
      "  warnings.warn(\n",
      "/anaconda/envs/dockq/lib/python3.13/site-packages/Bio/PDB/StructureBuilder.py:100: PDBConstructionWarning: WARNING: Chain B is discontinuous at line 20863.\n",
      "  warnings.warn(\n",
      "/anaconda/envs/dockq/lib/python3.13/site-packages/Bio/PDB/StructureBuilder.py:100: PDBConstructionWarning: WARNING: Chain C is discontinuous at line 20886.\n",
      "  warnings.warn(\n",
      "/anaconda/envs/dockq/lib/python3.13/site-packages/Bio/PDB/StructureBuilder.py:100: PDBConstructionWarning: WARNING: Chain D is discontinuous at line 20897.\n",
      "  warnings.warn(\n"
     ]
    },
    {
     "name": "stdout",
     "output_type": "stream",
     "text": [
      "5GMQ\n"
     ]
    },
    {
     "name": "stderr",
     "output_type": "stream",
     "text": [
      "/anaconda/envs/dockq/lib/python3.13/site-packages/Bio/PDB/StructureBuilder.py:100: PDBConstructionWarning: WARNING: Chain A is discontinuous at line 5449.\n",
      "  warnings.warn(\n",
      "/anaconda/envs/dockq/lib/python3.13/site-packages/Bio/PDB/StructureBuilder.py:100: PDBConstructionWarning: WARNING: Chain C is discontinuous at line 5485.\n",
      "  warnings.warn(\n",
      "/anaconda/envs/dockq/lib/python3.13/site-packages/Bio/PDB/StructureBuilder.py:100: PDBConstructionWarning: WARNING: Chain A is discontinuous at line 5489.\n",
      "  warnings.warn(\n",
      "/anaconda/envs/dockq/lib/python3.13/site-packages/Bio/PDB/StructureBuilder.py:100: PDBConstructionWarning: WARNING: Chain B is discontinuous at line 5494.\n",
      "  warnings.warn(\n",
      "/anaconda/envs/dockq/lib/python3.13/site-packages/Bio/PDB/StructureBuilder.py:100: PDBConstructionWarning: WARNING: Chain C is discontinuous at line 5497.\n",
      "  warnings.warn(\n",
      "/anaconda/envs/dockq/lib/python3.13/site-packages/Bio/PDB/StructureBuilder.py:100: PDBConstructionWarning: WARNING: Chain A is discontinuous at line 13743.\n",
      "  warnings.warn(\n",
      "/anaconda/envs/dockq/lib/python3.13/site-packages/Bio/PDB/StructureBuilder.py:100: PDBConstructionWarning: WARNING: Chain B is discontinuous at line 13771.\n",
      "  warnings.warn(\n"
     ]
    },
    {
     "name": "stdout",
     "output_type": "stream",
     "text": [
      "5YY5\n",
      "5ZXV\n",
      "6C6X\n"
     ]
    },
    {
     "name": "stderr",
     "output_type": "stream",
     "text": [
      "/anaconda/envs/dockq/lib/python3.13/site-packages/Bio/PDB/StructureBuilder.py:100: PDBConstructionWarning: WARNING: Chain A is discontinuous at line 27730.\n",
      "  warnings.warn(\n",
      "/anaconda/envs/dockq/lib/python3.13/site-packages/Bio/PDB/StructureBuilder.py:100: PDBConstructionWarning: WARNING: Chain B is discontinuous at line 27861.\n",
      "  warnings.warn(\n",
      "/anaconda/envs/dockq/lib/python3.13/site-packages/Bio/PDB/StructureBuilder.py:100: PDBConstructionWarning: WARNING: Chain C is discontinuous at line 27947.\n",
      "  warnings.warn(\n",
      "/anaconda/envs/dockq/lib/python3.13/site-packages/Bio/PDB/StructureBuilder.py:100: PDBConstructionWarning: WARNING: Chain D is discontinuous at line 28127.\n",
      "  warnings.warn(\n",
      "/anaconda/envs/dockq/lib/python3.13/site-packages/Bio/PDB/StructureBuilder.py:100: PDBConstructionWarning: WARNING: Chain E is discontinuous at line 28256.\n",
      "  warnings.warn(\n",
      "/anaconda/envs/dockq/lib/python3.13/site-packages/Bio/PDB/StructureBuilder.py:100: PDBConstructionWarning: WARNING: Chain F is discontinuous at line 28364.\n",
      "  warnings.warn(\n",
      "/anaconda/envs/dockq/lib/python3.13/site-packages/Bio/PDB/StructureBuilder.py:100: PDBConstructionWarning: WARNING: Chain H is discontinuous at line 28456.\n",
      "  warnings.warn(\n",
      "/anaconda/envs/dockq/lib/python3.13/site-packages/Bio/PDB/StructureBuilder.py:100: PDBConstructionWarning: WARNING: Chain L is discontinuous at line 28554.\n",
      "  warnings.warn(\n"
     ]
    },
    {
     "name": "stdout",
     "output_type": "stream",
     "text": [
      "6NB3\n"
     ]
    },
    {
     "name": "stderr",
     "output_type": "stream",
     "text": [
      "/anaconda/envs/dockq/lib/python3.13/site-packages/Bio/PDB/StructureBuilder.py:100: PDBConstructionWarning: WARNING: Chain A is discontinuous at line 31642.\n",
      "  warnings.warn(\n",
      "/anaconda/envs/dockq/lib/python3.13/site-packages/Bio/PDB/StructureBuilder.py:100: PDBConstructionWarning: WARNING: Chain B is discontinuous at line 32423.\n",
      "  warnings.warn(\n",
      "/anaconda/envs/dockq/lib/python3.13/site-packages/Bio/PDB/StructureBuilder.py:100: PDBConstructionWarning: WARNING: Chain C is discontinuous at line 33082.\n",
      "  warnings.warn(\n"
     ]
    },
    {
     "name": "stdout",
     "output_type": "stream",
     "text": [
      "6NB6\n"
     ]
    },
    {
     "name": "stderr",
     "output_type": "stream",
     "text": [
      "/anaconda/envs/dockq/lib/python3.13/site-packages/Bio/PDB/StructureBuilder.py:100: PDBConstructionWarning: WARNING: Chain A is discontinuous at line 27690.\n",
      "  warnings.warn(\n",
      "/anaconda/envs/dockq/lib/python3.13/site-packages/Bio/PDB/StructureBuilder.py:100: PDBConstructionWarning: WARNING: Chain B is discontinuous at line 28327.\n",
      "  warnings.warn(\n",
      "/anaconda/envs/dockq/lib/python3.13/site-packages/Bio/PDB/StructureBuilder.py:100: PDBConstructionWarning: WARNING: Chain C is discontinuous at line 28948.\n",
      "  warnings.warn(\n"
     ]
    },
    {
     "name": "stdout",
     "output_type": "stream",
     "text": [
      "6W41\n",
      "6WPS\n"
     ]
    },
    {
     "name": "stderr",
     "output_type": "stream",
     "text": [
      "/anaconda/envs/dockq/lib/python3.13/site-packages/Bio/PDB/StructureBuilder.py:100: PDBConstructionWarning: WARNING: Chain L is discontinuous at line 5441.\n",
      "  warnings.warn(\n",
      "/anaconda/envs/dockq/lib/python3.13/site-packages/Bio/PDB/StructureBuilder.py:100: PDBConstructionWarning: WARNING: Chain C is discontinuous at line 5457.\n",
      "  warnings.warn(\n",
      "/anaconda/envs/dockq/lib/python3.13/site-packages/Bio/PDB/StructureBuilder.py:100: PDBConstructionWarning: WARNING: Chain A is discontinuous at line 29904.\n",
      "  warnings.warn(\n",
      "/anaconda/envs/dockq/lib/python3.13/site-packages/Bio/PDB/StructureBuilder.py:100: PDBConstructionWarning: WARNING: Chain B is discontinuous at line 30241.\n",
      "  warnings.warn(\n",
      "/anaconda/envs/dockq/lib/python3.13/site-packages/Bio/PDB/StructureBuilder.py:100: PDBConstructionWarning: WARNING: Chain E is discontinuous at line 30578.\n",
      "  warnings.warn(\n"
     ]
    },
    {
     "name": "stdout",
     "output_type": "stream",
     "text": [
      "6XC2\n"
     ]
    },
    {
     "name": "stderr",
     "output_type": "stream",
     "text": [
      "/anaconda/envs/dockq/lib/python3.13/site-packages/Bio/PDB/StructureBuilder.py:100: PDBConstructionWarning: WARNING: Chain A is discontinuous at line 10312.\n",
      "  warnings.warn(\n",
      "/anaconda/envs/dockq/lib/python3.13/site-packages/Bio/PDB/StructureBuilder.py:100: PDBConstructionWarning: WARNING: Chain Z is discontinuous at line 10326.\n",
      "  warnings.warn(\n"
     ]
    },
    {
     "name": "stdout",
     "output_type": "stream",
     "text": [
      "6XC4\n"
     ]
    },
    {
     "name": "stderr",
     "output_type": "stream",
     "text": [
      "/anaconda/envs/dockq/lib/python3.13/site-packages/Bio/PDB/StructureBuilder.py:100: PDBConstructionWarning: WARNING: Chain A is discontinuous at line 10420.\n",
      "  warnings.warn(\n",
      "/anaconda/envs/dockq/lib/python3.13/site-packages/Bio/PDB/StructureBuilder.py:100: PDBConstructionWarning: WARNING: Chain Z is discontinuous at line 10434.\n",
      "  warnings.warn(\n",
      "/anaconda/envs/dockq/lib/python3.13/site-packages/Bio/PDB/StructureBuilder.py:100: PDBConstructionWarning: WARNING: Chain A is discontinuous at line 10448.\n",
      "  warnings.warn(\n",
      "/anaconda/envs/dockq/lib/python3.13/site-packages/Bio/PDB/StructureBuilder.py:100: PDBConstructionWarning: WARNING: Chain H is discontinuous at line 10531.\n",
      "  warnings.warn(\n",
      "/anaconda/envs/dockq/lib/python3.13/site-packages/Bio/PDB/StructureBuilder.py:100: PDBConstructionWarning: WARNING: Chain L is discontinuous at line 10671.\n",
      "  warnings.warn(\n",
      "/anaconda/envs/dockq/lib/python3.13/site-packages/Bio/PDB/StructureBuilder.py:100: PDBConstructionWarning: WARNING: Chain Z is discontinuous at line 10770.\n",
      "  warnings.warn(\n",
      "/anaconda/envs/dockq/lib/python3.13/site-packages/Bio/PDB/StructureBuilder.py:100: PDBConstructionWarning: WARNING: Chain X is discontinuous at line 10849.\n",
      "  warnings.warn(\n",
      "/anaconda/envs/dockq/lib/python3.13/site-packages/Bio/PDB/StructureBuilder.py:100: PDBConstructionWarning: WARNING: Chain Y is discontinuous at line 10983.\n",
      "  warnings.warn(\n",
      "/anaconda/envs/dockq/lib/python3.13/site-packages/Bio/PDB/StructureBuilder.py:100: PDBConstructionWarning: WARNING: Chain H is discontinuous at line 3659.\n",
      "  warnings.warn(\n",
      "/anaconda/envs/dockq/lib/python3.13/site-packages/Bio/PDB/StructureBuilder.py:100: PDBConstructionWarning: WARNING: Chain L is discontinuous at line 3664.\n",
      "  warnings.warn(\n",
      "/anaconda/envs/dockq/lib/python3.13/site-packages/Bio/PDB/StructureBuilder.py:100: PDBConstructionWarning: WARNING: Chain H is discontinuous at line 3669.\n",
      "  warnings.warn(\n",
      "/anaconda/envs/dockq/lib/python3.13/site-packages/Bio/PDB/StructureBuilder.py:100: PDBConstructionWarning: WARNING: Chain L is discontinuous at line 3919.\n",
      "  warnings.warn(\n"
     ]
    },
    {
     "name": "stdout",
     "output_type": "stream",
     "text": [
      "6XCA\n",
      "6XDG\n"
     ]
    },
    {
     "name": "stderr",
     "output_type": "stream",
     "text": [
      "/anaconda/envs/dockq/lib/python3.13/site-packages/Bio/PDB/StructureBuilder.py:100: PDBConstructionWarning: WARNING: Chain E is discontinuous at line 10085.\n",
      "  warnings.warn(\n"
     ]
    },
    {
     "name": "stdout",
     "output_type": "stream",
     "text": [
      "6XE1\n"
     ]
    },
    {
     "name": "stderr",
     "output_type": "stream",
     "text": [
      "/anaconda/envs/dockq/lib/python3.13/site-packages/Bio/PDB/StructureBuilder.py:100: PDBConstructionWarning: WARNING: Chain H is discontinuous at line 5460.\n",
      "  warnings.warn(\n",
      "/anaconda/envs/dockq/lib/python3.13/site-packages/Bio/PDB/StructureBuilder.py:100: PDBConstructionWarning: WARNING: Chain L is discontinuous at line 5468.\n",
      "  warnings.warn(\n",
      "/anaconda/envs/dockq/lib/python3.13/site-packages/Bio/PDB/StructureBuilder.py:100: PDBConstructionWarning: WARNING: Chain E is discontinuous at line 5478.\n",
      "  warnings.warn(\n"
     ]
    },
    {
     "name": "stdout",
     "output_type": "stream",
     "text": [
      "6XEY\n"
     ]
    },
    {
     "name": "stderr",
     "output_type": "stream",
     "text": [
      "/anaconda/envs/dockq/lib/python3.13/site-packages/Bio/PDB/StructureBuilder.py:100: PDBConstructionWarning: WARNING: Chain A is discontinuous at line 30597.\n",
      "  warnings.warn(\n",
      "/anaconda/envs/dockq/lib/python3.13/site-packages/Bio/PDB/StructureBuilder.py:100: PDBConstructionWarning: WARNING: Chain B is discontinuous at line 30860.\n",
      "  warnings.warn(\n",
      "/anaconda/envs/dockq/lib/python3.13/site-packages/Bio/PDB/StructureBuilder.py:100: PDBConstructionWarning: WARNING: Chain C is discontinuous at line 31120.\n",
      "  warnings.warn(\n",
      "/anaconda/envs/dockq/lib/python3.13/site-packages/Bio/PDB/StructureBuilder.py:100: PDBConstructionWarning: WARNING: Chain F is discontinuous at line 31380.\n",
      "  warnings.warn(\n",
      "/anaconda/envs/dockq/lib/python3.13/site-packages/Bio/PDB/StructureBuilder.py:100: PDBConstructionWarning: WARNING: Chain H is discontinuous at line 31408.\n",
      "  warnings.warn(\n",
      "/anaconda/envs/dockq/lib/python3.13/site-packages/Bio/PDB/StructureBuilder.py:100: PDBConstructionWarning: WARNING: Chain J is discontinuous at line 31436.\n",
      "  warnings.warn(\n"
     ]
    },
    {
     "name": "stdout",
     "output_type": "stream",
     "text": [
      "6XKP\n"
     ]
    },
    {
     "name": "stderr",
     "output_type": "stream",
     "text": [
      "/anaconda/envs/dockq/lib/python3.13/site-packages/Bio/PDB/StructureBuilder.py:100: PDBConstructionWarning: WARNING: Chain A is discontinuous at line 10175.\n",
      "  warnings.warn(\n",
      "/anaconda/envs/dockq/lib/python3.13/site-packages/Bio/PDB/StructureBuilder.py:100: PDBConstructionWarning: WARNING: Chain B is discontinuous at line 10189.\n",
      "  warnings.warn(\n",
      "/anaconda/envs/dockq/lib/python3.13/site-packages/Bio/PDB/StructureBuilder.py:100: PDBConstructionWarning: WARNING: Chain H is discontinuous at line 10203.\n",
      "  warnings.warn(\n",
      "/anaconda/envs/dockq/lib/python3.13/site-packages/Bio/PDB/StructureBuilder.py:100: PDBConstructionWarning: WARNING: Chain L is discontinuous at line 10218.\n",
      "  warnings.warn(\n",
      "/anaconda/envs/dockq/lib/python3.13/site-packages/Bio/PDB/StructureBuilder.py:100: PDBConstructionWarning: WARNING: Chain M is discontinuous at line 10228.\n",
      "  warnings.warn(\n",
      "/anaconda/envs/dockq/lib/python3.13/site-packages/Bio/PDB/StructureBuilder.py:100: PDBConstructionWarning: WARNING: Chain N is discontinuous at line 10238.\n",
      "  warnings.warn(\n"
     ]
    },
    {
     "name": "stdout",
     "output_type": "stream",
     "text": [
      "6XKQ\n"
     ]
    },
    {
     "name": "stderr",
     "output_type": "stream",
     "text": [
      "/anaconda/envs/dockq/lib/python3.13/site-packages/Bio/PDB/StructureBuilder.py:100: PDBConstructionWarning: WARNING: Chain A is discontinuous at line 9428.\n",
      "  warnings.warn(\n",
      "/anaconda/envs/dockq/lib/python3.13/site-packages/Bio/PDB/StructureBuilder.py:100: PDBConstructionWarning: WARNING: Chain H is discontinuous at line 9456.\n",
      "  warnings.warn(\n",
      "/anaconda/envs/dockq/lib/python3.13/site-packages/Bio/PDB/StructureBuilder.py:100: PDBConstructionWarning: WARNING: Chain A is discontinuous at line 9484.\n",
      "  warnings.warn(\n",
      "/anaconda/envs/dockq/lib/python3.13/site-packages/Bio/PDB/StructureBuilder.py:100: PDBConstructionWarning: WARNING: Chain H is discontinuous at line 9528.\n",
      "  warnings.warn(\n",
      "/anaconda/envs/dockq/lib/python3.13/site-packages/Bio/PDB/StructureBuilder.py:100: PDBConstructionWarning: WARNING: Chain L is discontinuous at line 9570.\n",
      "  warnings.warn(\n"
     ]
    },
    {
     "name": "stdout",
     "output_type": "stream",
     "text": [
      "6ZCZ\n"
     ]
    },
    {
     "name": "stderr",
     "output_type": "stream",
     "text": [
      "/anaconda/envs/dockq/lib/python3.13/site-packages/Bio/PDB/StructureBuilder.py:100: PDBConstructionWarning: WARNING: Chain E is discontinuous at line 12608.\n",
      "  warnings.warn(\n",
      "/anaconda/envs/dockq/lib/python3.13/site-packages/Bio/PDB/StructureBuilder.py:100: PDBConstructionWarning: WARNING: Chain F is discontinuous at line 12623.\n",
      "  warnings.warn(\n",
      "/anaconda/envs/dockq/lib/python3.13/site-packages/Bio/PDB/StructureBuilder.py:100: PDBConstructionWarning: WARNING: Chain H is discontinuous at line 12624.\n",
      "  warnings.warn(\n",
      "/anaconda/envs/dockq/lib/python3.13/site-packages/Bio/PDB/StructureBuilder.py:100: PDBConstructionWarning: WARNING: Chain L is discontinuous at line 12626.\n",
      "  warnings.warn(\n"
     ]
    },
    {
     "name": "stdout",
     "output_type": "stream",
     "text": [
      "7AKD\n"
     ]
    },
    {
     "name": "stderr",
     "output_type": "stream",
     "text": [
      "/anaconda/envs/dockq/lib/python3.13/site-packages/Bio/PDB/StructureBuilder.py:100: PDBConstructionWarning: WARNING: Chain A is discontinuous at line 29244.\n",
      "  warnings.warn(\n",
      "/anaconda/envs/dockq/lib/python3.13/site-packages/Bio/PDB/StructureBuilder.py:100: PDBConstructionWarning: WARNING: Chain B is discontinuous at line 29380.\n",
      "  warnings.warn(\n",
      "/anaconda/envs/dockq/lib/python3.13/site-packages/Bio/PDB/StructureBuilder.py:100: PDBConstructionWarning: WARNING: Chain C is discontinuous at line 29558.\n",
      "  warnings.warn(\n",
      "/anaconda/envs/dockq/lib/python3.13/site-packages/Bio/PDB/StructureBuilder.py:100: PDBConstructionWarning: WARNING: Chain D is discontinuous at line 29666.\n",
      "  warnings.warn(\n",
      "/anaconda/envs/dockq/lib/python3.13/site-packages/Bio/PDB/StructureBuilder.py:100: PDBConstructionWarning: WARNING: Chain H is discontinuous at line 29677.\n",
      "  warnings.warn(\n"
     ]
    }
   ],
   "source": [
    "struc_pair = {}\n",
    "work_dir = '../data/interim/True_structures'\n",
    "for mol in os.listdir(work_dir):\n",
    "    name = mol[:-4].upper()\n",
    "    print(name)\n",
    "    seqs = []\n",
    "    for record in parse(f'../data/interim/boltz_input/{name}.fasta', 'fasta'):\n",
    "        seqs.append(str(record.seq))\n",
    "    native = pdb_parser.get_structure(name, os.path.join(work_dir, mol))\n",
    "    pairings = identify_antibody_chains(os.path.join(work_dir, mol), seqs[0], seqs[1])\n",
    "    struc_pair[name] = pairings\n",
    "    # break\n",
    "\n",
    "    # mol_df = parse('')"
   ]
  },
  {
   "cell_type": "code",
   "execution_count": 12,
   "metadata": {},
   "outputs": [
    {
     "data": {
      "text/plain": [
       "{'2G75': None,\n",
       " '2GHW': None,\n",
       " '3BGF': {('H', 'L'): ('S', 105), ('B', 'C'): None},\n",
       " '4XAK': {('H', 'L'): ('A', 134), ('D', 'E'): None},\n",
       " '4ZPT': {('A', 'B'): ('R', 146), ('H', 'L'): None},\n",
       " '4ZS6': None,\n",
       " '5DO2': {('H', 'L'): ('A', 165), ('C', 'D'): None},\n",
       " '5GMQ': {('B', 'C'): ('A', 171)},\n",
       " '5YY5': {('H', 'L'): ('A', 138)},\n",
       " '5ZXV': None,\n",
       " '6C6X': {('A', 'B'): None,\n",
       "  ('C', 'B'): None,\n",
       "  ('E', 'F'): None,\n",
       "  ('H', 'F'): None},\n",
       " '6NB3': {('H', 'L'): ('C', 233), ('D', 'E'): None},\n",
       " '6NB6': {('H', 'L'): ('C', 49), ('I', 'M'): None},\n",
       " '6W41': {('H', 'L'): ('C', 218)},\n",
       " '6WPS': None,\n",
       " '6XC2': {('H', 'L'): ('A', 384), ('X', 'Y'): None},\n",
       " '6XC4': {('H', 'L'): ('A', 239), ('X', 'Y'): None},\n",
       " '6XCA': None,\n",
       " '6XDG': None,\n",
       " '6XE1': None,\n",
       " '6XEY': {('F', 'G'): ('B', 92), ('H', 'L'): None, ('J', 'K'): None},\n",
       " '6XKP': None,\n",
       " '6XKQ': None,\n",
       " '6ZCZ': {('H', 'L'): ('E', 234)},\n",
       " '7AKD': {('D', 'E'): ('C', 50), ('H', 'L'): None}}"
      ]
     },
     "execution_count": 12,
     "metadata": {},
     "output_type": "execute_result"
    }
   ],
   "source": [
    "struc_pair"
   ]
  },
  {
   "cell_type": "code",
   "execution_count": 17,
   "metadata": {},
   "outputs": [
    {
     "name": "stdout",
     "output_type": "stream",
     "text": [
      "{'H': 'A', 'L': 'B', 'S': 'C'}\n",
      "{'H': 'A', 'L': 'B', 'A': 'C'}\n",
      "{'A': 'A', 'B': 'B', 'R': 'C'}\n",
      "{'H': 'A', 'L': 'B', 'A': 'C'}\n",
      "{'B': 'A', 'C': 'B', 'A': 'C'}\n",
      "{'H': 'A', 'L': 'B', 'A': 'C'}\n",
      "{'H': 'A', 'L': 'B', 'C': 'C'}\n",
      "{'H': 'A', 'L': 'B', 'C': 'C'}\n",
      "{'H': 'A', 'L': 'B', 'C': 'C'}\n",
      "{'H': 'A', 'L': 'B', 'A': 'C'}\n",
      "{'H': 'A', 'L': 'B', 'A': 'C'}\n",
      "{'F': 'A', 'G': 'B', 'B': 'C'}\n",
      "{'H': 'A', 'L': 'B', 'E': 'C'}\n",
      "{'D': 'A', 'E': 'B', 'C': 'C'}\n"
     ]
    }
   ],
   "source": [
    "dockqs = [[], []]\n",
    "irmsd = [[], []]\n",
    "scores = [[], []]\n",
    "f1 = [[], []]\n",
    "epitope = []\n",
    "# F1\n",
    "for i, (mol_name, pairings) in enumerate(struc_pair.items()):\n",
    "    if pairings is None:\n",
    "        continue\n",
    "    for hl_pairing, rbd_chain in pairings.items():\n",
    "        if rbd_chain is None:\n",
    "            continue\n",
    "        \n",
    "        epitope.append(os.listdir('../data/interim/queries_H')[i].split('_')[1])\n",
    "        chain_map = {hl_pairing[0]: 'A', hl_pairing[1]: 'B', rbd_chain[0]: 'C'}\n",
    "        # chain_map = {'C*':rbd_chain[0]+'*'}\n",
    "        print(chain_map)\n",
    "        native = load_PDB(f'../data/interim/True_structures/{mol_name.lower()}.pdb')\n",
    "        baseline = load_PDB(f'../data/interim/boltz_results_baseline/boltz_results_{mol_name}/predictions/{mol_name}/{mol_name}_model_0.cif')\n",
    "        custom = load_PDB(f'../data/interim/boltz_custom_results/boltz_results_{mol_name}/predictions/{mol_name}/{mol_name}_model_0.cif')\n",
    "        base_res = run_on_all_native_interfaces(baseline, native, chain_map=chain_map)\n",
    "        custom_res = run_on_all_native_interfaces(custom, native, chain_map=chain_map)\n",
    "        dockqs[0].append(1/2 * (base_res[0][hl_pairing[0]+rbd_chain[0]]['DockQ'] + base_res[0][hl_pairing[1]+rbd_chain[0]]['DockQ']))\n",
    "        dockqs[1].append(1/2 * (custom_res[0][hl_pairing[0]+rbd_chain[0]]['DockQ'] + custom_res[0][hl_pairing[1]+rbd_chain[0]]['DockQ']))\n",
    "        irmsd[0].append(1/2 * (base_res[0][hl_pairing[0]+rbd_chain[0]]['iRMSD'] + base_res[0][hl_pairing[1]+rbd_chain[0]]['iRMSD']))\n",
    "        irmsd[1].append(1/2 * (custom_res[0][hl_pairing[0]+rbd_chain[0]]['iRMSD'] + custom_res[0][hl_pairing[1]+rbd_chain[0]]['iRMSD']))\n",
    "        f1[0].append(1/2 * (base_res[0][hl_pairing[0]+rbd_chain[0]]['F1'] + base_res[0][hl_pairing[1]+rbd_chain[0]]['F1']))\n",
    "        f1[1].append(1/2 * (custom_res[0][hl_pairing[0]+rbd_chain[0]]['F1'] + custom_res[0][hl_pairing[1]+rbd_chain[0]]['F1']))\n",
    "\n",
    "        "
   ]
  },
  {
   "cell_type": "code",
   "execution_count": 18,
   "metadata": {},
   "outputs": [],
   "source": [
    "import matplotlib.pyplot as plt\n",
    "import numpy as np\n",
    "\n",
    "def plot_metric(scores, metric, epitopes):\n",
    "    plt.boxplot(scores, tick_labels=['Base Boltz-1', 'Custom MSA Boltz-1'], showfliers=False)\n",
    "    x_base = np.random.normal(1, 0.15, len(scores[0]))\n",
    "    x_custom = np.random.normal(2, 0.15, len(scores[1]))\n",
    "    for epitope in np.unique(epitopes):\n",
    "        idx = np.array(epitopes) == epitope\n",
    "        idx2 = np.concatenate([idx, idx])\n",
    "        x_all = np.concatenate([x_base, x_custom])\n",
    "        # print(idx)\n",
    "        plt.scatter([x for x, y in zip(x_all, idx2) if y], [x for x, y in zip(scores[0] + scores[1], idx2) if y], label=epitope)\n",
    "        # plt.scatter([x for x, y in zip(x_custom, idx) if y], [x for x, y in zip(scores[1], idx) if y], label=epitope)\n",
    "\n",
    "    for i, (x1, x2) in enumerate(zip(x_base, x_custom)):\n",
    "        plt.plot([x1, x2], [scores[0][i], scores[1][i]], color='k', alpha=0.3)\n",
    "\n",
    "    plt.ylabel(metric)\n",
    "    plt.title(f'Comparison of {metric} docking score')\n",
    "    plt.legend()\n",
    "    plt.show()\n",
    "    # plt.yscale('log')"
   ]
  },
  {
   "cell_type": "code",
   "execution_count": 25,
   "metadata": {},
   "outputs": [
    {
     "data": {
      "image/png": "[encoded data removed]",
      "text/plain": [
       "<Figure size 640x480 with 1 Axes>"
      ]
     },
     "metadata": {},
     "output_type": "display_data"
    }
   ],
   "source": [
    "plot_metric(dockqs, 'DockQ', epitope)"
   ]
  },
  {
   "cell_type": "code",
   "execution_count": 80,
   "metadata": {},
   "outputs": [
    {
     "data": {
      "text/plain": [
       "array([ True,  True, False, False, False,  True, False,  True, False,\n",
       "        True, False,  True, False,  True])"
      ]
     },
     "execution_count": 80,
     "metadata": {},
     "output_type": "execute_result"
    }
   ],
   "source": [
    "np.array(epitope) == 'E2.2'"
   ]
  },
  {
   "cell_type": "code",
   "execution_count": 81,
   "metadata": {},
   "outputs": [
    {
     "data": {
      "text/plain": [
       "array([ True,  True,  True,  True, False, False, False, False, False,\n",
       "       False,  True,  True, False, False,  True,  True, False, False,\n",
       "        True,  True, False, False,  True,  True, False, False,  True,\n",
       "        True])"
      ]
     },
     "execution_count": 81,
     "metadata": {},
     "output_type": "execute_result"
    }
   ],
   "source": [
    "np.repeat(np.array(epitope) == 'E2.2', 2)"
   ]
  },
  {
   "cell_type": "code",
   "execution_count": 45,
   "metadata": {},
   "outputs": [
    {
     "data": {
      "image/png": "[encoded data removed]",
      "text/plain": [
       "<Figure size 640x480 with 1 Axes>"
      ]
     },
     "metadata": {},
     "output_type": "display_data"
    }
   ],
   "source": [
    "plot_metric(f1, 'F1')"
   ]
  },
  {
   "cell_type": "code",
   "execution_count": 89,
   "metadata": {},
   "outputs": [
    {
     "name": "stdout",
     "output_type": "stream",
     "text": [
      "0.014284942343189758 0.0477181531858957\n"
     ]
    }
   ],
   "source": [
    "print(dockqs[0][-1], dockqs[1][-1])"
   ]
  },
  {
   "cell_type": "code",
   "execution_count": 24,
   "metadata": {},
   "outputs": [
    {
     "name": "stdout",
     "output_type": "stream",
     "text": [
      "{'DockQ': 0.014357062077157054, 'F1': 0.0, 'iRMSD': 11.85231525134005, 'LRMSD': 50.73070725918304, 'fnat': 0, 'nat_correct': 0, 'nat_total': 36, 'fnonnat': 1.0, 'nonnat_count': 51, 'model_total': 51, 'clashes': 3, 'len1': 120, 'len2': 992, 'class1': 'ligand', 'class2': 'receptor', 'is_het': False, 'chain1': 'A', 'chain2': 'C', 'chain_map': {'D': 'A', 'E': 'B', 'C': 'C'}}\n",
      "{'DockQ': 0.01249890988751729, 'F1': 0.0, 'iRMSD': 12.487169159862674, 'LRMSD': 55.066226969939514, 'fnat': 0, 'nat_correct': 0, 'nat_total': 10, 'fnonnat': 1.0, 'nonnat_count': 3, 'model_total': 3, 'clashes': 0, 'len1': 106, 'len2': 992, 'class1': 'ligand', 'class2': 'receptor', 'is_het': False, 'chain1': 'B', 'chain2': 'C', 'chain_map': {'D': 'A', 'E': 'B', 'C': 'C'}}\n"
     ]
    }
   ],
   "source": [
    "print(base_res[0]['DC'])\n",
    "print(base_res[0]['EC'])"
   ]
  },
  {
   "cell_type": "code",
   "execution_count": 23,
   "metadata": {},
   "outputs": [
    {
     "name": "stdout",
     "output_type": "stream",
     "text": [
      "{'DockQ': 0.09057454779258274, 'F1': 0.15730337078651685, 'iRMSD': 11.700301802837911, 'LRMSD': 33.31754207660045, 'fnat': 0.19444444444444445, 'nat_correct': 7, 'nat_total': 36, 'fnonnat': 0.8679245283018868, 'nonnat_count': 46, 'model_total': 53, 'clashes': 4, 'len1': 120, 'len2': 992, 'class1': 'ligand', 'class2': 'receptor', 'is_het': False, 'chain1': 'A', 'chain2': 'C', 'chain_map': {'D': 'A', 'E': 'B', 'C': 'C'}}\n",
      "{'DockQ': 0.024964181378004196, 'F1': 0.0, 'iRMSD': 13.802561902080493, 'LRMSD': 32.719776895906925, 'fnat': 0, 'nat_correct': 0, 'nat_total': 10, 'fnonnat': 1.0, 'nonnat_count': 19, 'model_total': 19, 'clashes': 1, 'len1': 106, 'len2': 992, 'class1': 'ligand', 'class2': 'receptor', 'is_het': False, 'chain1': 'B', 'chain2': 'C', 'chain_map': {'D': 'A', 'E': 'B', 'C': 'C'}}\n"
     ]
    }
   ],
   "source": [
    "print(custom_res[0]['DC'])\n",
    "print(custom_res[0]['EC'])"
   ]
  },
  {
   "cell_type": "code",
   "execution_count": 39,
   "metadata": {},
   "outputs": [
    {
     "data": {
      "text/plain": [
       "{'DockQ': 0.02542624076484397,\n",
       " 'F1': 0.0,\n",
       " 'iRMSD': 13.040333857759537,\n",
       " 'LRMSD': 32.719753244156514,\n",
       " 'fnat': 0,\n",
       " 'nat_correct': 0,\n",
       " 'nat_total': 19,\n",
       " 'fnonnat': 1.0,\n",
       " 'nonnat_count': 10,\n",
       " 'model_total': 10,\n",
       " 'clashes': 0,\n",
       " 'len1': 106,\n",
       " 'len2': 223,\n",
       " 'class1': 'ligand',\n",
       " 'class2': 'receptor',\n",
       " 'is_het': False,\n",
       " 'chain1': 'E',\n",
       " 'chain2': 'C',\n",
       " 'chain_map': {'A': 'D', 'B': 'E', 'C': 'C'}}"
      ]
     },
     "execution_count": 39,
     "metadata": {},
     "output_type": "execute_result"
    }
   ],
   "source": [
    "custom_res[0]['BC']"
   ]
  },
  {
   "cell_type": "markdown",
   "metadata": {},
   "source": []
  },
  {
   "cell_type": "markdown",
   "metadata": {},
   "source": []
  },
  {
   "cell_type": "markdown",
   "metadata": {},
   "source": []
  }
 ],
 "metadata": {
  "kernelspec": {
   "display_name": "dockq",
   "language": "python",
   "name": "python3"
  },
  "language_info": {
   "codemirror_mode": {
    "name": "ipython",
    "version": 3
   },
   "file_extension": ".py",
   "mimetype": "text/x-python",
   "name": "python",
   "nbconvert_exporter": "python",
   "pygments_lexer": "ipython3",
   "version": "3.13.1"
  }
 },
 "nbformat": 4,
 "nbformat_minor": 2
}
