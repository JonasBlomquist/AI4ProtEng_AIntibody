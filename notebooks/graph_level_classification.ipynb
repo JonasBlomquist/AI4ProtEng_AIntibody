{
  "cells": [
    {
      "cell_type": "markdown",
      "metadata": {
        "id": "ySm9B-x9n3DO"
      },
      "source": [
        "# Graph-level Classification\n",
        "\n",
        "In SARS-CoV-2 studies, the spike protein, particularly the receptor-binding domain (RBD), is commonly mutated to map epitopes. In this project, we wish to predict the class of antibody epitopes for which an antibody sequence is likely to bind to. This will make us able to create epitope specific MSAs when feeding the classifier with multiple sequences. The MSA can enhance the performance when predicting antigen-antibody complexes using AlphaFold3 or similar tools.\n",
        "\n",
        "The aim of this notebook is to classify the antibodies when representing the proteins as graphs. These representations are constructed from ESM-2 embeddings and contact scores. A Graph Neural Network (GNN) is trained for graph level predictions.\n",
        "\n",
        "### Preparation\n",
        "\n",
        "We install PyTorch Geometric (PyG) used for to write and train GNNs. The required libraries are loaded.\n",
        "\n"
      ]
    },
    {
      "cell_type": "code",
      "execution_count": 74,
      "metadata": {
        "id": "V6cM8lkan_cN"
      },
      "outputs": [],
      "source": [
        "import os\n",
        "import sys\n",
        "import numpy as np\n",
        "import pandas as pd\n",
        "import matplotlib.pyplot as plt\n",
        "import seaborn as sns\n",
        "import torch\n",
        "import pickle\n",
        "from torch_geometric.data import Data, DataLoader\n",
        "from torch_geometric.nn.conv import GCNConv\n",
        "from torch.utils.data import random_split\n",
        "import torch.nn.functional as F\n",
        "from torch_geometric.nn.pool import global_mean_pool\n",
        "from torch.optim.lr_scheduler import ReduceLROnPlateau"
      ]
    },
    {
      "cell_type": "markdown",
      "metadata": {
        "id": "SOIFbBZfoB_R"
      },
      "source": [
        "### Data Import\n",
        "\n",
        "We will import the data including information about the data partioning into train, validation and test. This insures a fair comparison of the performance across different classifiers."
      ]
    },
    {
      "cell_type": "code",
      "execution_count": 2,
      "metadata": {
        "colab": {
          "base_uri": "https://localhost:8080/",
          "height": 669
        },
        "id": "nmnI6Ot-oBvJ",
        "outputId": "0170381c-123f-4e93-c62a-f70e3a4d6d14"
      },
      "outputs": [
        {
          "data": {
            "text/html": [
              "<div>\n",
              "<style scoped>\n",
              "    .dataframe tbody tr th:only-of-type {\n",
              "        vertical-align: middle;\n",
              "    }\n",
              "\n",
              "    .dataframe tbody tr th {\n",
              "        vertical-align: top;\n",
              "    }\n",
              "\n",
              "    .dataframe thead th {\n",
              "        text-align: right;\n",
              "    }\n",
              "</style>\n",
              "<table border=\"1\" class=\"dataframe\">\n",
              "  <thead>\n",
              "    <tr style=\"text-align: right;\">\n",
              "      <th></th>\n",
              "      <th>Unnamed: 0</th>\n",
              "      <th>Antibody  Name</th>\n",
              "      <th>Epitope Group</th>\n",
              "      <th>source</th>\n",
              "      <th>D614G</th>\n",
              "      <th>BA.1</th>\n",
              "      <th>BA.2</th>\n",
              "      <th>BA.2.75</th>\n",
              "      <th>BA.5</th>\n",
              "      <th>BQ.1.1</th>\n",
              "      <th>...</th>\n",
              "      <th>Heavy chain V gene</th>\n",
              "      <th>Heavy chain J gene</th>\n",
              "      <th>Light chain V gene</th>\n",
              "      <th>Light chain J gene</th>\n",
              "      <th>Heavy chain AA</th>\n",
              "      <th>Light chain AA</th>\n",
              "      <th>clus_vh</th>\n",
              "      <th>clus_vl</th>\n",
              "      <th>connected</th>\n",
              "      <th>partition</th>\n",
              "    </tr>\n",
              "  </thead>\n",
              "  <tbody>\n",
              "    <tr>\n",
              "      <th>0</th>\n",
              "      <td>0</td>\n",
              "      <td>BD-196</td>\n",
              "      <td>C</td>\n",
              "      <td>WT convalescents</td>\n",
              "      <td>1.93</td>\n",
              "      <td>&gt;10</td>\n",
              "      <td>&gt;10</td>\n",
              "      <td>&gt;10</td>\n",
              "      <td>&gt;10</td>\n",
              "      <td>&gt;10</td>\n",
              "      <td>...</td>\n",
              "      <td>IGHV1-3</td>\n",
              "      <td>IGHJ6</td>\n",
              "      <td>IGKV2-58</td>\n",
              "      <td>IGKJ1</td>\n",
              "      <td>QVQLVQSGAEVKKPGASVKVSCKASGYTFTSYAMHWVRQAPGQRLE...</td>\n",
              "      <td>DVVMTQSPLSLPVTLGQPASISCRSSQSLVYSDGNTYLNWFQQRPG...</td>\n",
              "      <td>1442</td>\n",
              "      <td>682</td>\n",
              "      <td>0</td>\n",
              "      <td>Validation</td>\n",
              "    </tr>\n",
              "    <tr>\n",
              "      <th>1</th>\n",
              "      <td>1</td>\n",
              "      <td>BD-218</td>\n",
              "      <td>A</td>\n",
              "      <td>WT convalescents</td>\n",
              "      <td>0.0104</td>\n",
              "      <td>0.00849</td>\n",
              "      <td>0.00937</td>\n",
              "      <td>0.0116</td>\n",
              "      <td>5.26</td>\n",
              "      <td>&gt;10</td>\n",
              "      <td>...</td>\n",
              "      <td>IGHV4-34</td>\n",
              "      <td>IGHJ1</td>\n",
              "      <td>IGKV3-11</td>\n",
              "      <td>IGKJ5</td>\n",
              "      <td>QVQLQQWGAGLLKPSETLSLTCAVYGGSFSDYFWYWIRQPPGKGLE...</td>\n",
              "      <td>EIVLTQSPATLSLSPGERATLSCRASQSVSSYLAWYQQKPGQAPRL...</td>\n",
              "      <td>1443</td>\n",
              "      <td>508</td>\n",
              "      <td>1</td>\n",
              "      <td>Train</td>\n",
              "    </tr>\n",
              "    <tr>\n",
              "      <th>2</th>\n",
              "      <td>2</td>\n",
              "      <td>BD-236</td>\n",
              "      <td>A</td>\n",
              "      <td>WT convalescents</td>\n",
              "      <td>0.0173</td>\n",
              "      <td>&gt;10</td>\n",
              "      <td>&gt;10</td>\n",
              "      <td>&gt;10</td>\n",
              "      <td>&gt;10</td>\n",
              "      <td>&gt;10</td>\n",
              "      <td>...</td>\n",
              "      <td>IGHV3-53</td>\n",
              "      <td>IGHJ6</td>\n",
              "      <td>IGKV1-9</td>\n",
              "      <td>IGKJ4</td>\n",
              "      <td>EVQLVESGGGLIQPGGSLRLSCAASGITVSSNYMSWVRQAPGKGLE...</td>\n",
              "      <td>IQLTQSPSSLSASVGDRVTITCRASQGISSYLAWYQQKPGKAPKLL...</td>\n",
              "      <td>595</td>\n",
              "      <td>591</td>\n",
              "      <td>1</td>\n",
              "      <td>Test</td>\n",
              "    </tr>\n",
              "    <tr>\n",
              "      <th>3</th>\n",
              "      <td>3</td>\n",
              "      <td>BD-254</td>\n",
              "      <td>C</td>\n",
              "      <td>WT convalescents</td>\n",
              "      <td>0.25</td>\n",
              "      <td>&gt;10</td>\n",
              "      <td>&gt;10</td>\n",
              "      <td>&gt;10</td>\n",
              "      <td>&gt;10</td>\n",
              "      <td>&gt;10</td>\n",
              "      <td>...</td>\n",
              "      <td>IGHV3-23</td>\n",
              "      <td>IGHJ4</td>\n",
              "      <td>IGLV7-46</td>\n",
              "      <td>IGLJ2</td>\n",
              "      <td>EVQLLESGGGLVQPGGSLRLSCAASGFTLSSYAMSWVRQAPGRGLE...</td>\n",
              "      <td>QAVVTQEPSLTVSPGGTVTLTCGSSTGAVTSGHYPYWFQQKPGQAP...</td>\n",
              "      <td>1444</td>\n",
              "      <td>683</td>\n",
              "      <td>2</td>\n",
              "      <td>Validation</td>\n",
              "    </tr>\n",
              "    <tr>\n",
              "      <th>4</th>\n",
              "      <td>4</td>\n",
              "      <td>BD-255</td>\n",
              "      <td>B</td>\n",
              "      <td>WT convalescents</td>\n",
              "      <td>0.113</td>\n",
              "      <td>&gt;10</td>\n",
              "      <td>&gt;10</td>\n",
              "      <td>&gt;10</td>\n",
              "      <td>&gt;10</td>\n",
              "      <td>&gt;10</td>\n",
              "      <td>...</td>\n",
              "      <td>IGHV3-30</td>\n",
              "      <td>IGHJ6</td>\n",
              "      <td>IGKV3-15</td>\n",
              "      <td>IGKJ2</td>\n",
              "      <td>QVQLVESGGGVVQPGRSLRLSCVASGFTFSNYDMHWVRQAPGKGLE...</td>\n",
              "      <td>EIVMTQSPAILSVSPGERATLSCRASQSVTRNLAWYQQKPGQAPRL...</td>\n",
              "      <td>1450</td>\n",
              "      <td>684</td>\n",
              "      <td>3</td>\n",
              "      <td>Validation</td>\n",
              "    </tr>\n",
              "    <tr>\n",
              "      <th>...</th>\n",
              "      <td>...</td>\n",
              "      <td>...</td>\n",
              "      <td>...</td>\n",
              "      <td>...</td>\n",
              "      <td>...</td>\n",
              "      <td>...</td>\n",
              "      <td>...</td>\n",
              "      <td>...</td>\n",
              "      <td>...</td>\n",
              "      <td>...</td>\n",
              "      <td>...</td>\n",
              "      <td>...</td>\n",
              "      <td>...</td>\n",
              "      <td>...</td>\n",
              "      <td>...</td>\n",
              "      <td>...</td>\n",
              "      <td>...</td>\n",
              "      <td>...</td>\n",
              "      <td>...</td>\n",
              "      <td>...</td>\n",
              "      <td>...</td>\n",
              "    </tr>\n",
              "    <tr>\n",
              "      <th>3046</th>\n",
              "      <td>3046</td>\n",
              "      <td>BD55-6726</td>\n",
              "      <td>E2.2</td>\n",
              "      <td>SARS convalescents</td>\n",
              "      <td>&gt;10</td>\n",
              "      <td>&gt;10</td>\n",
              "      <td>&gt;10</td>\n",
              "      <td>&gt;10</td>\n",
              "      <td>&gt;10</td>\n",
              "      <td>&gt;10</td>\n",
              "      <td>...</td>\n",
              "      <td>IGHV1-58</td>\n",
              "      <td>IGHJ2</td>\n",
              "      <td>IGKV3-24</td>\n",
              "      <td>IGKJ1</td>\n",
              "      <td>QMQLVQSGPEVKRPGTSVKVSCEASGFTFSSSAILWVRQPRGQRLE...</td>\n",
              "      <td>EIVLRQSPATVSLSPGERATLSCRASQSVHNYLAWFQQKPGQAPRL...</td>\n",
              "      <td>2157</td>\n",
              "      <td>913</td>\n",
              "      <td>807</td>\n",
              "      <td>Validation</td>\n",
              "    </tr>\n",
              "    <tr>\n",
              "      <th>3047</th>\n",
              "      <td>3047</td>\n",
              "      <td>BD55-6727</td>\n",
              "      <td>F2</td>\n",
              "      <td>SARS convalescents</td>\n",
              "      <td>0.293</td>\n",
              "      <td>4.37</td>\n",
              "      <td>&gt;10</td>\n",
              "      <td>&gt;10</td>\n",
              "      <td>&gt;10</td>\n",
              "      <td>&gt;10</td>\n",
              "      <td>...</td>\n",
              "      <td>IGHV3-11</td>\n",
              "      <td>IGHJ1</td>\n",
              "      <td>IGKV1-39</td>\n",
              "      <td>IGKJ2</td>\n",
              "      <td>QVQLVESGGGLVKPGGSLRLSCAASGFTFSDYYMNWIRQAPGKGLE...</td>\n",
              "      <td>DIQMTQSPSSLSASVGDRVTITCRASQSISNYLNWYQQKPGKAPKL...</td>\n",
              "      <td>2158</td>\n",
              "      <td>456</td>\n",
              "      <td>1</td>\n",
              "      <td>Train</td>\n",
              "    </tr>\n",
              "    <tr>\n",
              "      <th>3048</th>\n",
              "      <td>3048</td>\n",
              "      <td>BD55-6728</td>\n",
              "      <td>F1</td>\n",
              "      <td>SARS convalescents</td>\n",
              "      <td>&gt;10</td>\n",
              "      <td>&gt;10</td>\n",
              "      <td>&gt;10</td>\n",
              "      <td>&gt;10</td>\n",
              "      <td>&gt;10</td>\n",
              "      <td>&gt;10</td>\n",
              "      <td>...</td>\n",
              "      <td>IGHV3-64</td>\n",
              "      <td>IGHJ2</td>\n",
              "      <td>IGKV1-39</td>\n",
              "      <td>IGKJ1</td>\n",
              "      <td>EVQLVESGGGLVQPGGSLRLSCAASGFTFSRFAMHWVRQAPGKGLE...</td>\n",
              "      <td>DIQMTQSPSSLSASLGDRVTITCRASQTISRYLNWYQQKPGKAPKV...</td>\n",
              "      <td>2159</td>\n",
              "      <td>456</td>\n",
              "      <td>1</td>\n",
              "      <td>Train</td>\n",
              "    </tr>\n",
              "    <tr>\n",
              "      <th>3049</th>\n",
              "      <td>3049</td>\n",
              "      <td>BD55-6729</td>\n",
              "      <td>F1</td>\n",
              "      <td>SARS convalescents</td>\n",
              "      <td>&gt;10</td>\n",
              "      <td>&gt;10</td>\n",
              "      <td>&gt;10</td>\n",
              "      <td>&gt;10</td>\n",
              "      <td>&gt;10</td>\n",
              "      <td>&gt;10</td>\n",
              "      <td>...</td>\n",
              "      <td>IGHV1-18</td>\n",
              "      <td>IGHJ6</td>\n",
              "      <td>IGLV3-25</td>\n",
              "      <td>IGLJ2</td>\n",
              "      <td>QVQLVQSGAEVKKPGTSMRVSCKASGYTFSTYGIIWVRQAPGQGLE...</td>\n",
              "      <td>SYELTQPPSVSVSPGQTARITCSGDAVATQFLYWYQQKSGQAPVMV...</td>\n",
              "      <td>2160</td>\n",
              "      <td>914</td>\n",
              "      <td>808</td>\n",
              "      <td>Validation</td>\n",
              "    </tr>\n",
              "    <tr>\n",
              "      <th>3050</th>\n",
              "      <td>3050</td>\n",
              "      <td>BD55-6730</td>\n",
              "      <td>E3</td>\n",
              "      <td>SARS convalescents</td>\n",
              "      <td>&gt;10</td>\n",
              "      <td>&gt;10</td>\n",
              "      <td>&gt;10</td>\n",
              "      <td>&gt;10</td>\n",
              "      <td>&gt;10</td>\n",
              "      <td>&gt;10</td>\n",
              "      <td>...</td>\n",
              "      <td>IGHV4-34</td>\n",
              "      <td>IGHJ2</td>\n",
              "      <td>IGKV1-9</td>\n",
              "      <td>IGKJ3</td>\n",
              "      <td>QLQLQESGSGLVKPSQTLSLTCAVSGGSISSGAYSWSWIRQPPGKG...</td>\n",
              "      <td>DIQLTQSPSLLSASVGDRVTITCRASQDISSFLAWYQQKPGKAPKL...</td>\n",
              "      <td>2161</td>\n",
              "      <td>915</td>\n",
              "      <td>809</td>\n",
              "      <td>Validation</td>\n",
              "    </tr>\n",
              "  </tbody>\n",
              "</table>\n",
              "<p>3051 rows × 21 columns</p>\n",
              "</div>"
            ],
            "text/plain": [
              "      Unnamed: 0 Antibody  Name Epitope Group              source   D614G  \\\n",
              "0              0         BD-196             C    WT convalescents    1.93   \n",
              "1              1         BD-218             A    WT convalescents  0.0104   \n",
              "2              2         BD-236             A    WT convalescents  0.0173   \n",
              "3              3         BD-254             C    WT convalescents    0.25   \n",
              "4              4         BD-255             B    WT convalescents   0.113   \n",
              "...          ...            ...           ...                 ...     ...   \n",
              "3046        3046      BD55-6726          E2.2  SARS convalescents     >10   \n",
              "3047        3047      BD55-6727            F2  SARS convalescents   0.293   \n",
              "3048        3048      BD55-6728            F1  SARS convalescents     >10   \n",
              "3049        3049      BD55-6729            F1  SARS convalescents     >10   \n",
              "3050        3050      BD55-6730            E3  SARS convalescents     >10   \n",
              "\n",
              "         BA.1     BA.2 BA.2.75  BA.5 BQ.1.1  ... Heavy chain V gene  \\\n",
              "0         >10      >10     >10   >10    >10  ...            IGHV1-3   \n",
              "1     0.00849  0.00937  0.0116  5.26    >10  ...           IGHV4-34   \n",
              "2         >10      >10     >10   >10    >10  ...           IGHV3-53   \n",
              "3         >10      >10     >10   >10    >10  ...           IGHV3-23   \n",
              "4         >10      >10     >10   >10    >10  ...           IGHV3-30   \n",
              "...       ...      ...     ...   ...    ...  ...                ...   \n",
              "3046      >10      >10     >10   >10    >10  ...           IGHV1-58   \n",
              "3047     4.37      >10     >10   >10    >10  ...           IGHV3-11   \n",
              "3048      >10      >10     >10   >10    >10  ...           IGHV3-64   \n",
              "3049      >10      >10     >10   >10    >10  ...           IGHV1-18   \n",
              "3050      >10      >10     >10   >10    >10  ...           IGHV4-34   \n",
              "\n",
              "     Heavy chain J gene Light chain V gene Light chain J gene  \\\n",
              "0                 IGHJ6           IGKV2-58              IGKJ1   \n",
              "1                 IGHJ1           IGKV3-11              IGKJ5   \n",
              "2                 IGHJ6            IGKV1-9              IGKJ4   \n",
              "3                 IGHJ4           IGLV7-46              IGLJ2   \n",
              "4                 IGHJ6           IGKV3-15              IGKJ2   \n",
              "...                 ...                ...                ...   \n",
              "3046              IGHJ2           IGKV3-24              IGKJ1   \n",
              "3047              IGHJ1           IGKV1-39              IGKJ2   \n",
              "3048              IGHJ2           IGKV1-39              IGKJ1   \n",
              "3049              IGHJ6           IGLV3-25              IGLJ2   \n",
              "3050              IGHJ2            IGKV1-9              IGKJ3   \n",
              "\n",
              "                                         Heavy chain AA  \\\n",
              "0     QVQLVQSGAEVKKPGASVKVSCKASGYTFTSYAMHWVRQAPGQRLE...   \n",
              "1     QVQLQQWGAGLLKPSETLSLTCAVYGGSFSDYFWYWIRQPPGKGLE...   \n",
              "2     EVQLVESGGGLIQPGGSLRLSCAASGITVSSNYMSWVRQAPGKGLE...   \n",
              "3     EVQLLESGGGLVQPGGSLRLSCAASGFTLSSYAMSWVRQAPGRGLE...   \n",
              "4     QVQLVESGGGVVQPGRSLRLSCVASGFTFSNYDMHWVRQAPGKGLE...   \n",
              "...                                                 ...   \n",
              "3046  QMQLVQSGPEVKRPGTSVKVSCEASGFTFSSSAILWVRQPRGQRLE...   \n",
              "3047  QVQLVESGGGLVKPGGSLRLSCAASGFTFSDYYMNWIRQAPGKGLE...   \n",
              "3048  EVQLVESGGGLVQPGGSLRLSCAASGFTFSRFAMHWVRQAPGKGLE...   \n",
              "3049  QVQLVQSGAEVKKPGTSMRVSCKASGYTFSTYGIIWVRQAPGQGLE...   \n",
              "3050  QLQLQESGSGLVKPSQTLSLTCAVSGGSISSGAYSWSWIRQPPGKG...   \n",
              "\n",
              "                                         Light chain AA clus_vh  clus_vl  \\\n",
              "0     DVVMTQSPLSLPVTLGQPASISCRSSQSLVYSDGNTYLNWFQQRPG...    1442      682   \n",
              "1     EIVLTQSPATLSLSPGERATLSCRASQSVSSYLAWYQQKPGQAPRL...    1443      508   \n",
              "2     IQLTQSPSSLSASVGDRVTITCRASQGISSYLAWYQQKPGKAPKLL...     595      591   \n",
              "3     QAVVTQEPSLTVSPGGTVTLTCGSSTGAVTSGHYPYWFQQKPGQAP...    1444      683   \n",
              "4     EIVMTQSPAILSVSPGERATLSCRASQSVTRNLAWYQQKPGQAPRL...    1450      684   \n",
              "...                                                 ...     ...      ...   \n",
              "3046  EIVLRQSPATVSLSPGERATLSCRASQSVHNYLAWFQQKPGQAPRL...    2157      913   \n",
              "3047  DIQMTQSPSSLSASVGDRVTITCRASQSISNYLNWYQQKPGKAPKL...    2158      456   \n",
              "3048  DIQMTQSPSSLSASLGDRVTITCRASQTISRYLNWYQQKPGKAPKV...    2159      456   \n",
              "3049  SYELTQPPSVSVSPGQTARITCSGDAVATQFLYWYQQKSGQAPVMV...    2160      914   \n",
              "3050  DIQLTQSPSLLSASVGDRVTITCRASQDISSFLAWYQQKPGKAPKL...    2161      915   \n",
              "\n",
              "      connected   partition  \n",
              "0             0  Validation  \n",
              "1             1       Train  \n",
              "2             1        Test  \n",
              "3             2  Validation  \n",
              "4             3  Validation  \n",
              "...         ...         ...  \n",
              "3046        807  Validation  \n",
              "3047          1       Train  \n",
              "3048          1       Train  \n",
              "3049        808  Validation  \n",
              "3050        809  Validation  \n",
              "\n",
              "[3051 rows x 21 columns]"
            ]
          },
          "metadata": {},
          "output_type": "display_data"
        }
      ],
      "source": [
        "work_dir = os.getcwd()\n",
        "data_dir = os.path.join(work_dir, '../data')\n",
        "data = pd.read_csv(os.path.join(data_dir, 'raw/dataset_w_partition.csv'))\n",
        "display(data)"
      ]
    },
    {
      "cell_type": "markdown",
      "metadata": {
        "id": "S5VhiM4roFpL"
      },
      "source": [
        "We will be interested in the epitope group and both the heavy and light chain in the data above. Let us look at the distribution of the lengths of the heavy and light chain."
      ]
    },
    {
      "cell_type": "code",
      "execution_count": 3,
      "metadata": {
        "colab": {
          "base_uri": "https://localhost:8080/",
          "height": 564
        },
        "id": "gh1Nj0VVoI9b",
        "outputId": "ffadc774-c41a-493e-f247-dd9b4c18cf4c"
      },
      "outputs": [
        {
          "data": {
            "image/png": "[encoded data removed]",
            "text/plain": [
              "<Figure size 1600x600 with 2 Axes>"
            ]
          },
          "metadata": {},
          "output_type": "display_data"
        }
      ],
      "source": [
        "# Extract the sequencces\n",
        "heavy_sequences = list(data['Heavy chain AA'])\n",
        "light_sequences = list(data['Light chain AA'])\n",
        "\n",
        "# Calculate lengths\n",
        "heavy_sequence_lengths = [len(seq) for seq in heavy_sequences]\n",
        "light_sequence_lengths = [len(seq) for seq in light_sequences]\n",
        "\n",
        "# Create subplots\n",
        "fig, axs = plt.subplots(1, 2, figsize=(16, 6))  \n",
        "\n",
        "# Heavy chain plot\n",
        "sns.histplot(heavy_sequence_lengths, kde=True, bins=10, ax=axs[0])\n",
        "axs[0].set_title('Distribution of Heavy Chain Lengths')\n",
        "axs[0].set_xlabel('Sequence Length')\n",
        "axs[0].set_ylabel('Frequency')\n",
        "\n",
        "# Light chain plot\n",
        "sns.histplot(light_sequence_lengths, kde=True, bins=10, ax=axs[1])\n",
        "axs[1].set_title('Distribution of Light Chain Lengths')\n",
        "axs[1].set_xlabel('Sequence Length')\n",
        "axs[1].set_ylabel('Frequency')\n",
        "\n",
        "# Adjust layout and show\n",
        "plt.tight_layout()\n",
        "plt.show()"
      ]
    },
    {
      "cell_type": "markdown",
      "metadata": {
        "id": "3MuEDh2TkLSu"
      },
      "source": [
        "The class label (Epitope Group) is a character. We convert this into a integer. The new column is named \"Epitope Class\". This will be our target for the classification model. "
      ]
    },
    {
      "cell_type": "code",
      "execution_count": 4,
      "metadata": {
        "colab": {
          "base_uri": "https://localhost:8080/",
          "height": 669
        },
        "id": "JY6nSY6ckFqQ",
        "outputId": "689f0c05-b7af-427f-853d-4cedaa01790b"
      },
      "outputs": [
        {
          "data": {
            "text/html": [
              "<div>\n",
              "<style scoped>\n",
              "    .dataframe tbody tr th:only-of-type {\n",
              "        vertical-align: middle;\n",
              "    }\n",
              "\n",
              "    .dataframe tbody tr th {\n",
              "        vertical-align: top;\n",
              "    }\n",
              "\n",
              "    .dataframe thead th {\n",
              "        text-align: right;\n",
              "    }\n",
              "</style>\n",
              "<table border=\"1\" class=\"dataframe\">\n",
              "  <thead>\n",
              "    <tr style=\"text-align: right;\">\n",
              "      <th></th>\n",
              "      <th>Epitope Group</th>\n",
              "      <th>Epitope Class</th>\n",
              "      <th>Heavy chain AA</th>\n",
              "      <th>Light chain AA</th>\n",
              "    </tr>\n",
              "  </thead>\n",
              "  <tbody>\n",
              "    <tr>\n",
              "      <th>0</th>\n",
              "      <td>C</td>\n",
              "      <td>2</td>\n",
              "      <td>QVQLVQSGAEVKKPGASVKVSCKASGYTFTSYAMHWVRQAPGQRLE...</td>\n",
              "      <td>DVVMTQSPLSLPVTLGQPASISCRSSQSLVYSDGNTYLNWFQQRPG...</td>\n",
              "    </tr>\n",
              "    <tr>\n",
              "      <th>1</th>\n",
              "      <td>A</td>\n",
              "      <td>0</td>\n",
              "      <td>QVQLQQWGAGLLKPSETLSLTCAVYGGSFSDYFWYWIRQPPGKGLE...</td>\n",
              "      <td>EIVLTQSPATLSLSPGERATLSCRASQSVSSYLAWYQQKPGQAPRL...</td>\n",
              "    </tr>\n",
              "    <tr>\n",
              "      <th>2</th>\n",
              "      <td>A</td>\n",
              "      <td>0</td>\n",
              "      <td>EVQLVESGGGLIQPGGSLRLSCAASGITVSSNYMSWVRQAPGKGLE...</td>\n",
              "      <td>IQLTQSPSSLSASVGDRVTITCRASQGISSYLAWYQQKPGKAPKLL...</td>\n",
              "    </tr>\n",
              "    <tr>\n",
              "      <th>3</th>\n",
              "      <td>C</td>\n",
              "      <td>2</td>\n",
              "      <td>EVQLLESGGGLVQPGGSLRLSCAASGFTLSSYAMSWVRQAPGRGLE...</td>\n",
              "      <td>QAVVTQEPSLTVSPGGTVTLTCGSSTGAVTSGHYPYWFQQKPGQAP...</td>\n",
              "    </tr>\n",
              "    <tr>\n",
              "      <th>4</th>\n",
              "      <td>B</td>\n",
              "      <td>1</td>\n",
              "      <td>QVQLVESGGGVVQPGRSLRLSCVASGFTFSNYDMHWVRQAPGKGLE...</td>\n",
              "      <td>EIVMTQSPAILSVSPGERATLSCRASQSVTRNLAWYQQKPGQAPRL...</td>\n",
              "    </tr>\n",
              "    <tr>\n",
              "      <th>...</th>\n",
              "      <td>...</td>\n",
              "      <td>...</td>\n",
              "      <td>...</td>\n",
              "      <td>...</td>\n",
              "    </tr>\n",
              "    <tr>\n",
              "      <th>3046</th>\n",
              "      <td>E2.2</td>\n",
              "      <td>7</td>\n",
              "      <td>QMQLVQSGPEVKRPGTSVKVSCEASGFTFSSSAILWVRQPRGQRLE...</td>\n",
              "      <td>EIVLRQSPATVSLSPGERATLSCRASQSVHNYLAWFQQKPGQAPRL...</td>\n",
              "    </tr>\n",
              "    <tr>\n",
              "      <th>3047</th>\n",
              "      <td>F2</td>\n",
              "      <td>10</td>\n",
              "      <td>QVQLVESGGGLVKPGGSLRLSCAASGFTFSDYYMNWIRQAPGKGLE...</td>\n",
              "      <td>DIQMTQSPSSLSASVGDRVTITCRASQSISNYLNWYQQKPGKAPKL...</td>\n",
              "    </tr>\n",
              "    <tr>\n",
              "      <th>3048</th>\n",
              "      <td>F1</td>\n",
              "      <td>9</td>\n",
              "      <td>EVQLVESGGGLVQPGGSLRLSCAASGFTFSRFAMHWVRQAPGKGLE...</td>\n",
              "      <td>DIQMTQSPSSLSASLGDRVTITCRASQTISRYLNWYQQKPGKAPKV...</td>\n",
              "    </tr>\n",
              "    <tr>\n",
              "      <th>3049</th>\n",
              "      <td>F1</td>\n",
              "      <td>9</td>\n",
              "      <td>QVQLVQSGAEVKKPGTSMRVSCKASGYTFSTYGIIWVRQAPGQGLE...</td>\n",
              "      <td>SYELTQPPSVSVSPGQTARITCSGDAVATQFLYWYQQKSGQAPVMV...</td>\n",
              "    </tr>\n",
              "    <tr>\n",
              "      <th>3050</th>\n",
              "      <td>E3</td>\n",
              "      <td>8</td>\n",
              "      <td>QLQLQESGSGLVKPSQTLSLTCAVSGGSISSGAYSWSWIRQPPGKG...</td>\n",
              "      <td>DIQLTQSPSLLSASVGDRVTITCRASQDISSFLAWYQQKPGKAPKL...</td>\n",
              "    </tr>\n",
              "  </tbody>\n",
              "</table>\n",
              "<p>3051 rows × 4 columns</p>\n",
              "</div>"
            ],
            "text/plain": [
              "     Epitope Group  Epitope Class  \\\n",
              "0                C              2   \n",
              "1                A              0   \n",
              "2                A              0   \n",
              "3                C              2   \n",
              "4                B              1   \n",
              "...            ...            ...   \n",
              "3046          E2.2              7   \n",
              "3047            F2             10   \n",
              "3048            F1              9   \n",
              "3049            F1              9   \n",
              "3050            E3              8   \n",
              "\n",
              "                                         Heavy chain AA  \\\n",
              "0     QVQLVQSGAEVKKPGASVKVSCKASGYTFTSYAMHWVRQAPGQRLE...   \n",
              "1     QVQLQQWGAGLLKPSETLSLTCAVYGGSFSDYFWYWIRQPPGKGLE...   \n",
              "2     EVQLVESGGGLIQPGGSLRLSCAASGITVSSNYMSWVRQAPGKGLE...   \n",
              "3     EVQLLESGGGLVQPGGSLRLSCAASGFTLSSYAMSWVRQAPGRGLE...   \n",
              "4     QVQLVESGGGVVQPGRSLRLSCVASGFTFSNYDMHWVRQAPGKGLE...   \n",
              "...                                                 ...   \n",
              "3046  QMQLVQSGPEVKRPGTSVKVSCEASGFTFSSSAILWVRQPRGQRLE...   \n",
              "3047  QVQLVESGGGLVKPGGSLRLSCAASGFTFSDYYMNWIRQAPGKGLE...   \n",
              "3048  EVQLVESGGGLVQPGGSLRLSCAASGFTFSRFAMHWVRQAPGKGLE...   \n",
              "3049  QVQLVQSGAEVKKPGTSMRVSCKASGYTFSTYGIIWVRQAPGQGLE...   \n",
              "3050  QLQLQESGSGLVKPSQTLSLTCAVSGGSISSGAYSWSWIRQPPGKG...   \n",
              "\n",
              "                                         Light chain AA  \n",
              "0     DVVMTQSPLSLPVTLGQPASISCRSSQSLVYSDGNTYLNWFQQRPG...  \n",
              "1     EIVLTQSPATLSLSPGERATLSCRASQSVSSYLAWYQQKPGQAPRL...  \n",
              "2     IQLTQSPSSLSASVGDRVTITCRASQGISSYLAWYQQKPGKAPKLL...  \n",
              "3     QAVVTQEPSLTVSPGGTVTLTCGSSTGAVTSGHYPYWFQQKPGQAP...  \n",
              "4     EIVMTQSPAILSVSPGERATLSCRASQSVTRNLAWYQQKPGQAPRL...  \n",
              "...                                                 ...  \n",
              "3046  EIVLRQSPATVSLSPGERATLSCRASQSVHNYLAWFQQKPGQAPRL...  \n",
              "3047  DIQMTQSPSSLSASVGDRVTITCRASQSISNYLNWYQQKPGKAPKL...  \n",
              "3048  DIQMTQSPSSLSASLGDRVTITCRASQTISRYLNWYQQKPGKAPKV...  \n",
              "3049  SYELTQPPSVSVSPGQTARITCSGDAVATQFLYWYQQKSGQAPVMV...  \n",
              "3050  DIQLTQSPSLLSASVGDRVTITCRASQDISSFLAWYQQKPGKAPKL...  \n",
              "\n",
              "[3051 rows x 4 columns]"
            ]
          },
          "metadata": {},
          "output_type": "display_data"
        }
      ],
      "source": [
        "# Generate mapping dictionary.\n",
        "epitope_mapping = {group: code for code, group in enumerate(pd.Categorical(data['Epitope Group']).categories)}\n",
        "\n",
        "# Map the Epitope Group column using the dictionary\n",
        "data['Epitope Class'] = data['Epitope Group'].map(epitope_mapping)\n",
        "\n",
        "display(data[['Epitope Group', 'Epitope Class', 'Heavy chain AA', 'Light chain AA']])"
      ]
    },
    {
      "cell_type": "markdown",
      "metadata": {
        "id": "pYpYFRPckpQv"
      },
      "source": [
        "The relation between epitope group and their class label is seen here:"
      ]
    },
    {
      "cell_type": "code",
      "execution_count": 5,
      "metadata": {
        "colab": {
          "base_uri": "https://localhost:8080/"
        },
        "id": "S7YZj3H2kxhU",
        "outputId": "8d3b9daf-542a-4cca-82d0-508396ecaaf9"
      },
      "outputs": [
        {
          "name": "stdout",
          "output_type": "stream",
          "text": [
            "Epitope to Group Mapping: {'A': 0, 'B': 1, 'C': 2, 'D1': 3, 'D2': 4, 'E1': 5, 'E2.1': 6, 'E2.2': 7, 'E3': 8, 'F1': 9, 'F2': 10, 'F3': 11}\n"
          ]
        }
      ],
      "source": [
        "print(\"Epitope to Group Mapping:\", epitope_mapping)"
      ]
    },
    {
      "cell_type": "markdown",
      "metadata": {
        "id": "Z2hYD5BvlIZZ"
      },
      "source": [
        "### ESM-2 Representation\n",
        "\n",
        "Results from feeding the smallest ESM-2 model (esm2_t6_8M_UR50D) with the heavy and light chain sequences have already been generated. We will load these results in the format of a pickle file which retain the dict data format after running ESM-2. "
      ]
    },
    {
      "cell_type": "code",
      "execution_count": 6,
      "metadata": {},
      "outputs": [],
      "source": [
        "with open('../data/processed/embed_EMS_8_seperate', 'rb') as f:\n",
        "    data_esm2 = pickle.load(f)"
      ]
    },
    {
      "cell_type": "markdown",
      "metadata": {},
      "source": [
        "The ESM-2 model will output the representations as well as contact scores, which describes the likelihood that two specific residues in the protein are in close physical proximity when the protein folds into its three-dimensional structure."
      ]
    },
    {
      "cell_type": "code",
      "execution_count": 7,
      "metadata": {},
      "outputs": [
        {
          "data": {
            "text/plain": [
              "dict_keys(['representations', 'contacts'])"
            ]
          },
          "execution_count": 7,
          "metadata": {},
          "output_type": "execute_result"
        }
      ],
      "source": [
        "data_esm2.keys()"
      ]
    },
    {
      "cell_type": "markdown",
      "metadata": {},
      "source": [
        "We need to modify ESM-2 data a bit to combine the information from both chains. Thus, we must concatenate the representations, such that we get one representation vector per amino acid. However, all sequence representations will be of the same length, as the ESM-2 model apply padding as well as include a start and stop token, and we need to adjust for that as the first step. The contact matrices has only padding. The contact matrices will also be combined such that the contact map between the heavy and light chains will be filled with zero matrices. "
      ]
    },
    {
      "cell_type": "code",
      "execution_count": 9,
      "metadata": {},
      "outputs": [],
      "source": [
        "# Get number of proteins in the data\n",
        "protein_num = int(data.shape[0])\n",
        "\n",
        "# Extract representations\n",
        "representations = data_esm2['representations'][6]\n",
        "contacts = data_esm2['contacts']\n",
        "\n",
        "# Define heavy and light chain representations\n",
        "representations_heavy = representations[:protein_num, :, :]\n",
        "representations_light = representations[protein_num:, :, :]\n",
        "contacts_heavy = contacts[:protein_num, :, :]\n",
        "contacts_light = contacts[protein_num:, :, :]\n",
        "\n",
        "# Define empty lists\n",
        "representations_list = []\n",
        "contacts_list = []\n",
        "\n",
        "for index in range(protein_num):\n",
        "\n",
        "    # Remove the zero padding \n",
        "    # For representations, we also remove start and stop tokens\n",
        "    representation_heavy = representations_heavy[index, 1:heavy_sequence_lengths[index]+1, :]\n",
        "    representation_light = representations_light[index, 1:light_sequence_lengths[index]+1, :]\n",
        "    contact_heavy = contacts_heavy[index, :heavy_sequence_lengths[index], :heavy_sequence_lengths[index]]\n",
        "    contact_light = contacts_light[index, :light_sequence_lengths[index], :light_sequence_lengths[index]]\n",
        "    \n",
        "    # Concatenate the representations for both chains\n",
        "    representations_list.append(torch.cat((representation_heavy, representation_light), dim=0))\n",
        "    \n",
        "    # Make a combined contact matrix\n",
        "    zero_padding_1 = torch.zeros(heavy_sequence_lengths[index], light_sequence_lengths[index])\n",
        "    zero_padding_2 = torch.zeros(light_sequence_lengths[index], heavy_sequence_lengths[index])\n",
        "\n",
        "    contact_full = torch.cat([torch.cat([contact_heavy, zero_padding_1], dim=1), torch.cat([zero_padding_2, contact_light], dim=1)], dim=0)\n",
        "    \n",
        "    contacts_list.append(contact_full)"
      ]
    },
    {
      "cell_type": "markdown",
      "metadata": {
        "id": "FREZJjDfqNdQ"
      },
      "source": [
        "### Create Graphs\n",
        "\n",
        "We now have the representation for each amino acids, which we will use as nodes. Amino acids with contacts above a certain threshold will be considered as neighbors. We will look at the distribution of contact scores to get an idea about what would be a reasonable threshold. "
      ]
    },
    {
      "cell_type": "code",
      "execution_count": 26,
      "metadata": {},
      "outputs": [
        {
          "data": {
            "image/png": "[encoded data removed]",
            "text/plain": [
              "<Figure size 640x480 with 1 Axes>"
            ]
          },
          "metadata": {},
          "output_type": "display_data"
        }
      ],
      "source": [
        "pooled_scores = np.concatenate([matrix.flatten() for matrix in contacts_list])\n",
        "\n",
        "plt.hist(pooled_scores, bins=100, color='lightblue', alpha=1, edgecolor='black')\n",
        "plt.title('Contact Score Distribution')\n",
        "plt.xlabel('Contact Score')\n",
        "plt.ylabel('Frequency')\n",
        "plt.show()"
      ]
    },
    {
      "cell_type": "markdown",
      "metadata": {},
      "source": [
        "Let's look at the percentiles. The large amount of zero values are highly influences by our zero padding, so we will look at the distribution of non-zero scores."
      ]
    },
    {
      "cell_type": "code",
      "execution_count": 30,
      "metadata": {},
      "outputs": [
        {
          "name": "stdout",
          "output_type": "stream",
          "text": [
            "25th percentile: 0.011238768696784973\n",
            "50th percentile (Median): 0.0156715027987957\n",
            "75th percentile: 0.02598467655479908\n"
          ]
        }
      ],
      "source": [
        "percentiles = np.percentile(pooled_scores[pooled_scores != 0], [25, 50, 75])\n",
        "\n",
        "print(\"25th percentile:\", percentiles[0])\n",
        "print(\"50th percentile (Median):\", percentiles[1])\n",
        "print(\"75th percentile:\", percentiles[2])"
      ]
    },
    {
      "cell_type": "markdown",
      "metadata": {},
      "source": [
        "75% of the non-zero scores are below 0.026. We look at the contact map for the first sequence. "
      ]
    },
    {
      "cell_type": "code",
      "execution_count": 14,
      "metadata": {},
      "outputs": [
        {
          "data": {
            "image/png": "[encoded data removed]",
            "text/plain": [
              "<Figure size 480x480 with 2 Axes>"
            ]
          },
          "metadata": {},
          "output_type": "display_data"
        }
      ],
      "source": [
        "plt.matshow(contacts_list[10])\n",
        "plt.colorbar()\n",
        "plt.show()"
      ]
    },
    {
      "cell_type": "markdown",
      "metadata": {},
      "source": [
        "We want to avoid to large graphs, which consider less important interactions. On the other hand, we want to capture the structure from the contact map. We decide to consider contacts above 0.2 as interacting amino acids. We create the graphs using PyG. Each protein graph will be generated by providing the folowing features:\n",
        "\n",
        "- x: Node feature matrix with shape [num_nodes, num_node_features]. This will be sequence length (heavy + light chain) X representation dimension.\n",
        "\n",
        "- edge_index: Graph connectivity with shape [2, num_edges]. This will be neighboring amino acids within the protein.\n",
        "\n",
        "- edge_attr: Edge feature matrix with shape [num_edges, num_edge_features]. This will be the score betweeen amino acids from the contact map. We will save this information, but in this project, we use a network, which does not take this into account. \n",
        "\n",
        "- data.y: This will be the target. In our case, we wish to predict the epitope class."
      ]
    },
    {
      "cell_type": "code",
      "execution_count": 31,
      "metadata": {
        "id": "gdZISRzjyTjJ"
      },
      "outputs": [],
      "source": [
        "pygraphs = []\n",
        "threshold = 0.2\n",
        "epitope_classes = torch.tensor(data['Epitope Class'].values, dtype=torch.long)\n",
        "epitope_classes = epitope_classes.unsqueeze(0)\n",
        "\n",
        "for index in range(protein_num):\n",
        "\n",
        "  contacts = contacts_list[index]\n",
        "\n",
        "  edge_indices = (contacts > threshold).nonzero(as_tuple=False).T\n",
        "  edge_scores = contacts[edge_indices[0], edge_indices[1]]\n",
        "\n",
        "  # Create Data object\n",
        "  graph = Data(x = representations_list[index],\n",
        "               edge_index = edge_indices,\n",
        "               edge_attr = edge_scores.unsqueeze(1),\n",
        "               y = epitope_classes[:, index])\n",
        "\n",
        "  pygraphs.append(graph)"
      ]
    },
    {
      "cell_type": "markdown",
      "metadata": {},
      "source": [
        "We can take a look at the first 10 observations to get an idea about the data object. "
      ]
    },
    {
      "cell_type": "code",
      "execution_count": 34,
      "metadata": {
        "colab": {
          "base_uri": "https://localhost:8080/"
        },
        "id": "Xeo5J1lkofle",
        "outputId": "abd487d7-46c4-4456-a8f9-5b4f7f5ac7e3"
      },
      "outputs": [
        {
          "data": {
            "text/plain": [
              "[Data(x=[239, 320], edge_index=[2, 428], edge_attr=[428, 1], y=[1]),\n",
              " Data(x=[227, 320], edge_index=[2, 442], edge_attr=[442, 1], y=[1]),\n",
              " Data(x=[224, 320], edge_index=[2, 455], edge_attr=[455, 1], y=[1]),\n",
              " Data(x=[232, 320], edge_index=[2, 479], edge_attr=[479, 1], y=[1]),\n",
              " Data(x=[230, 320], edge_index=[2, 406], edge_attr=[406, 1], y=[1]),\n",
              " Data(x=[233, 320], edge_index=[2, 458], edge_attr=[458, 1], y=[1]),\n",
              " Data(x=[228, 320], edge_index=[2, 437], edge_attr=[437, 1], y=[1]),\n",
              " Data(x=[228, 320], edge_index=[2, 418], edge_attr=[418, 1], y=[1]),\n",
              " Data(x=[237, 320], edge_index=[2, 407], edge_attr=[407, 1], y=[1]),\n",
              " Data(x=[223, 320], edge_index=[2, 468], edge_attr=[468, 1], y=[1])]"
            ]
          },
          "execution_count": 34,
          "metadata": {},
          "output_type": "execute_result"
        }
      ],
      "source": [
        "pygraphs[:10]"
      ]
    },
    {
      "cell_type": "markdown",
      "metadata": {
        "id": "xkXpCnMA5gs3"
      },
      "source": [
        "### Classification Model\n",
        "\n",
        "We are now ready to build and train a Graph Neural Network (GNN). Let's first sort the graph into training, validation and test sets. "
      ]
    },
    {
      "cell_type": "code",
      "execution_count": 63,
      "metadata": {},
      "outputs": [
        {
          "name": "stdout",
          "output_type": "stream",
          "text": [
            "Train proteins: 2090\n",
            "Validation proteins: 682\n",
            "Test proteins: 279\n"
          ]
        }
      ],
      "source": [
        "# Get the indices for each partition\n",
        "train_indices = np.where(data['partition'] == 'Train')[0]\n",
        "val_indices   = np.where(data['partition'] == 'Validation')[0]\n",
        "test_indices  = np.where(data['partition'] == 'Test')[0]\n",
        "\n",
        "# Split dataset into training and test sets\n",
        "train_graphs = [pygraphs[i] for i in train_indices]\n",
        "val_graphs   = [pygraphs[i] for i in val_indices]\n",
        "test_graphs  = [pygraphs[i] for i in test_indices]\n",
        "\n",
        "# Create DataLoaders\n",
        "batch_size = 32\n",
        "train_loader = DataLoader(train_graphs, batch_size=batch_size, shuffle=True)\n",
        "val_loader   = DataLoader(val_graphs, batch_size=batch_size, shuffle=True)\n",
        "test_loader  = DataLoader(test_graphs, batch_size=batch_size, shuffle=False)\n",
        "\n",
        "# Print the indices\n",
        "print(f\"Train proteins: {len(train_indices)}\")\n",
        "print(f\"Validation proteins: {len(validation_indices)}\")\n",
        "print(f\"Test proteins: {len(test_indices)}\")"
      ]
    },
    {
      "cell_type": "markdown",
      "metadata": {},
      "source": [
        "We define the architechture for the model. We will have 3 graph convolutional layers followed by two fully connected linear layers with the rectified linear unit function (ReLU) used as activation function. A log softmax is used after the final linear layer to output the log probability of a protein belonging to each of the 12 epitope classes. "
      ]
    },
    {
      "cell_type": "code",
      "execution_count": 80,
      "metadata": {
        "id": "SGFqPRxk52M9"
      },
      "outputs": [],
      "source": [
        "class GNN(torch.nn.Module):\n",
        "    def __init__(self, input_dim, hidden_dim_Conv, hidden_dim_Linear, output_dim):\n",
        "        super(GNN, self).__init__()\n",
        "        self.conv1 = GCNConv(input_dim, hidden_dim_Conv)\n",
        "        self.conv2 = GCNConv(hidden_dim_Conv, hidden_dim_Conv)\n",
        "        self.conv3 = GCNConv(hidden_dim_Conv, hidden_dim_Conv)\n",
        "        self.fc1 = torch.nn.Linear(hidden_dim_Conv, hidden_dim_Linear)\n",
        "        self.fc2 = torch.nn.Linear(hidden_dim_Linear, output_dim)\n",
        "\n",
        "    def forward(self, x, edge_index, batch):\n",
        "        x = self.conv1(x, edge_index)\n",
        "        x = F.relu(x)\n",
        "        x = self.conv2(x, edge_index)\n",
        "        x = F.relu(x)\n",
        "        x = self.conv3(x, edge_index)\n",
        "        x = global_mean_pool(x, batch) \n",
        "        x = self.fc1(x)\n",
        "        x = F.relu(x)\n",
        "        x = self.fc2(x)\n",
        "    \n",
        "        return F.log_softmax(x, dim=1)\n",
        "\n",
        "# Initialize model, loss, and optimizer\n",
        "num_class = torch.max(epitope_classes).item() + 1\n",
        "num_features = representations_list[0].size()[1]\n",
        "\n",
        "# Set training details\n",
        "model = GNN(input_dim=num_features, hidden_dim_Conv=160, hidden_dim_Linear = 80, output_dim = num_class)\n",
        "optimizer = torch.optim.AdamW(model.parameters(), lr=0.001, weight_decay = 0.01)\n",
        "scheduler = ReduceLROnPlateau(optimizer = optimizer, mode = 'min', factor = 0.1)\n",
        "epochs = 10"
      ]
    },
    {
      "cell_type": "code",
      "execution_count": 88,
      "metadata": {
        "colab": {
          "base_uri": "https://localhost:8080/"
        },
        "id": "iDBIGkmy6QdX",
        "outputId": "a5146a9c-8ac5-4553-d520-7810eb955ee4"
      },
      "outputs": [
        {
          "name": "stdout",
          "output_type": "stream",
          "text": [
            "Epoch 1, Train Loss: 1.0015, Validation Loss: 2.0398\n",
            "Epoch 2, Train Loss: 0.9953, Validation Loss: 1.9868\n",
            "Epoch 4, Train Loss: 0.9823, Validation Loss: 2.0634\n",
            "Epoch 6, Train Loss: 0.9760, Validation Loss: 2.1041\n",
            "Epoch 8, Train Loss: 0.9787, Validation Loss: 2.0718\n",
            "Epoch 9, Train Loss: 0.9590, Validation Loss: 2.0645\n",
            "Epoch 10, Train Loss: 0.9699, Validation Loss: 2.0686\n"
          ]
        }
      ],
      "source": [
        "loss_train = [] \n",
        "loss_eval  = []\n",
        "\n",
        "for epoch in range(10):\n",
        "\n",
        "    loss_train_epoch = 0\n",
        "    loss_eval_epoch = 0\n",
        "    \n",
        "    model.train()\n",
        "    for data in train_loader:\n",
        "        optimizer.zero_grad()\n",
        "        out = model(data.x, data.edge_index, data.batch)\n",
        "        loss = F.nll_loss(out, data.y)\n",
        "        loss.backward()\n",
        "        optimizer.step()\n",
        "        loss_train_epoch += loss.item()\n",
        "    \n",
        "    loss_train_epoch /= len(train_loader)\n",
        "    loss_train.append(loss_train_epoch)\n",
        "    \n",
        "    model.eval()\n",
        "    with torch.no_grad():\n",
        "        for data in val_loader:\n",
        "            out = model(data.x, data.edge_index, data.batch)\n",
        "            loss = F.nll_loss(out, data.y)\n",
        "            loss_eval_epoch += loss.item()\n",
        "\n",
        "    loss_eval_epoch /= len(val_loader)\n",
        "    loss_eval.append(loss_eval_epoch)\n",
        "    \n",
        "    scheduler.step(loss_eval_epoch)\n",
        "\n",
        "    print(f\"Epoch {epoch+1}, Train Loss: {loss_train_epoch:.4f}, Validation Loss: {loss_eval_epoch:.4f}\")"
      ]
    },
    {
      "cell_type": "code",
      "execution_count": 106,
      "metadata": {
        "colab": {
          "base_uri": "https://localhost:8080/"
        },
        "id": "a6K2cAHM6fLw",
        "outputId": "89d3d970-a311-40d8-d480-7f1d09928387"
      },
      "outputs": [
        {
          "name": "stdout",
          "output_type": "stream",
          "text": [
            "Test Accuracy: 0.51\n"
          ]
        }
      ],
      "source": [
        "model.eval()\n",
        "correct = 0\n",
        "for data in test_loader:\n",
        "    out = model(data.x, data.edge_index, data.batch)\n",
        "    pred = out.argmax(dim=1)\n",
        "    correct += (pred == data.y).sum().item()\n",
        "\n",
        "accuracy = correct / len(test_dataset)\n",
        "print(f\"Test Accuracy: {accuracy:.2f}\")"
      ]
    },
    {
      "cell_type": "code",
      "execution_count": 52,
      "metadata": {},
      "outputs": [
        {
          "data": {
            "text/plain": [
              "'QVQLQQWGAGLLKPSETLSLTCAVYGGSFSDYFWYWIRQPPGKGLEWIGEINHSGSTNYNPSLKSRVSISVDTSKNQFSLKLSSVTAADTAVYYCARGQGYGRVLLWFGEWGQGTLVTVSS'"
            ]
          },
          "execution_count": 52,
          "metadata": {},
          "output_type": "execute_result"
        }
      ],
      "source": [
        "data['Heavy chain AA'][0:2][1]"
      ]
    },
    {
      "cell_type": "code",
      "execution_count": 57,
      "metadata": {},
      "outputs": [
        {
          "name": "stdout",
          "output_type": "stream",
          "text": [
            "Requirement already satisfied: fair-esm in /anaconda/envs/azureml_py38/lib/python3.10/site-packages (2.0.0)\n"
          ]
        },
        {
          "ename": "ModuleNotFoundError",
          "evalue": "No module named 'esm'",
          "output_type": "error",
          "traceback": [
            "\u001b[0;31m---------------------------------------------------------------------------\u001b[0m",
            "\u001b[0;31mModuleNotFoundError\u001b[0m                       Traceback (most recent call last)",
            "Cell \u001b[0;32mIn[57], line 3\u001b[0m\n\u001b[1;32m      1\u001b[0m get_ipython()\u001b[38;5;241m.\u001b[39msystem(\u001b[38;5;124m'\u001b[39m\u001b[38;5;124mpip install fair-esm\u001b[39m\u001b[38;5;124m'\u001b[39m)\n\u001b[1;32m      2\u001b[0m \u001b[38;5;28;01mimport\u001b[39;00m\u001b[38;5;250m \u001b[39m\u001b[38;5;21;01mtorch\u001b[39;00m\n\u001b[0;32m----> 3\u001b[0m \u001b[38;5;28;01mimport\u001b[39;00m\u001b[38;5;250m \u001b[39m\u001b[38;5;21;01mesm\u001b[39;00m\n\u001b[1;32m      5\u001b[0m \u001b[38;5;66;03m# Load ESM-2 model\u001b[39;00m\n\u001b[1;32m      6\u001b[0m model, alphabet \u001b[38;5;241m=\u001b[39m esm\u001b[38;5;241m.\u001b[39mpretrained\u001b[38;5;241m.\u001b[39mesm2_t12_35M_UR50D()\n",
            "\u001b[0;31mModuleNotFoundError\u001b[0m: No module named 'esm'"
          ]
        }
      ],
      "source": [
        "!pip install fair-esm\n",
        "import torch\n",
        "import esm\n",
        "\n",
        "# Load ESM-2 model\n",
        "model, alphabet = esm.pretrained.esm2_t12_35M_UR50D()\n",
        "batch_converter = alphabet.get_batch_converter()\n",
        "model.eval()  # disables dropout for deterministic results\n",
        "\n",
        "# Prepare data (first 2 sequences from ESMStructuralSplitDataset superfamily / 4)\n",
        "data = [\n",
        "    (\"p1\", \"QVQLVQSGAEVKKPGASVKVSCKASGYTFTSYAMHWVRQAPGQRLEWMGWINAGNGNTRYSQKFQGRVTITRDTSASTAYMELSSLRSEDTAVYYCASRREQWLGDLGYYYYGMDVWGQGTTVTVSS\"),\n",
        "    (\"p2\", \"QVQLQQWGAGLLKPSETLSLTCAVYGGSFSDYFWYWIRQPPGKGLEWIGEINHSGSTNYNPSLKSRVSISVDTSKNQFSLKLSSVTAADTAVYYCARGQGYGRVLLWFGEWGQGTLVTVSS\")]\n",
        "batch_labels, batch_strs, batch_tokens = batch_converter(data)\n",
        "batch_lens = (batch_tokens != alphabet.padding_idx).sum(1)\n",
        "\n",
        "# Extract per-residue representations (on CPU)\n",
        "with torch.no_grad():\n",
        "    results = model(batch_tokens, repr_layers=[33], return_contacts=True)\n",
        "token_representations = results[\"representations\"][33]\n",
        "\n",
        "# Generate per-sequence representations via averaging\n",
        "# NOTE: token 0 is always a beginning-of-sequence token, so the first residue is token 1.\n",
        "sequence_representations = []\n",
        "for i, tokens_len in enumerate(batch_lens):\n",
        "    sequence_representations.append(token_representations[i, 1 : tokens_len - 1].mean(0))\n",
        "\n",
        "# Look at the unsupervised self-attention map contact predictions\n",
        "import matplotlib.pyplot as plt\n",
        "for (_, seq), tokens_len, attention_contacts in zip(data, batch_lens, results[\"contacts\"]):\n",
        "    plt.matshow(attention_contacts[: tokens_len, : tokens_len])\n",
        "    plt.title(seq)\n",
        "    plt.show()"
      ]
    }
  ],
  "metadata": {
    "colab": {
      "provenance": []
    },
    "kernelspec": {
      "display_name": "project27666",
      "language": "python",
      "name": "python3"
    },
    "language_info": {
      "codemirror_mode": {
        "name": "ipython",
        "version": 3
      },
      "file_extension": ".py",
      "mimetype": "text/x-python",
      "name": "python",
      "nbconvert_exporter": "python",
      "pygments_lexer": "ipython3",
      "version": "3.13.1"
    }
  },
  "nbformat": 4,
  "nbformat_minor": 0
}
