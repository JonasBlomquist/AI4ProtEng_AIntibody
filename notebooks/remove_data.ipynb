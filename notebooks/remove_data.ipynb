{
 "cells": [
  {
   "cell_type": "markdown",
   "metadata": {},
   "source": [
    "# Title: Representation "
   ]
  },
  {
   "cell_type": "markdown",
   "metadata": {},
   "source": [
    "## 1:   Imports"
   ]
  },
  {
   "cell_type": "code",
   "execution_count": 1,
   "metadata": {},
   "outputs": [],
   "source": [
    "import os\n",
    "import sys\n",
    "import numpy as np\n",
    "import pandas as pd\n",
    "import pickle\n",
    "import matplotlib.pyplot as plt\n",
    "import seaborn as sns\n",
    "import torch\n",
    "import anndata as ad\n",
    "# import scanpy as sc\n",
    "from collections import Counter\n",
    "os.environ['SCIPY_ARRAY_API'] = '1'\n",
    "# from imblearn import over_sampling\n",
    "from sklearn.neighbors import KNeighborsClassifier\n",
    "from sklearn.metrics import accuracy_score, precision_score, recall_score, confusion_matrix, ConfusionMatrixDisplay, f1_score\n",
    "from flaml import AutoML\n",
    "import h5py\n",
    "# import "
   ]
  },
  {
   "cell_type": "markdown",
   "metadata": {},
   "source": [
    "## 2: Load  metadata and set data dir"
   ]
  },
  {
   "cell_type": "code",
   "execution_count": 2,
   "metadata": {},
   "outputs": [],
   "source": [
    "embed_dir = '/home/azureuser/cloudfiles/code/Users/s184243/AI4ProtEng_AIntibody/data/interim/'\n",
    "data = pd.read_csv('../data/processed/dataset_w_cdr_annotation.csv', index_col=0)\n"
   ]
  },
  {
   "cell_type": "code",
   "execution_count": null,
   "metadata": {},
   "outputs": [
    {
     "name": "stdout",
     "output_type": "stream",
     "text": [
      "model compressed :/home/azureuser/cloudfiles/code/Users/s184243/AI4ProtEng_AIntibody/data/interim/embed_EMS_8M_together_<cls>.h5\n",
      "model compressed :/home/azureuser/cloudfiles/code/Users/s184243/AI4ProtEng_AIntibody/data/interim/embed_EMS_8M_together_G.h5\n",
      "model compressed :/home/azureuser/cloudfiles/code/Users/s184243/AI4ProtEng_AIntibody/data/interim/embed_EMS_8M_together_GGGGS.h5\n",
      "load:model_name\n",
      "Compressing :/home/azureuser/cloudfiles/code/Users/s184243/AI4ProtEng_AIntibody/data/interim/embed_EMS_8M_seperate.h5\n",
      "model compressed :/home/azureuser/cloudfiles/code/Users/s184243/AI4ProtEng_AIntibody/data/interim/embed_EMS_8M_seperate.h5\n",
      "model compressed :/home/azureuser/cloudfiles/code/Users/s184243/AI4ProtEng_AIntibody/data/interim/embed_EMS_8M_seperate.h5\n",
      "model compressed :/home/azureuser/cloudfiles/code/Users/s184243/AI4ProtEng_AIntibody/data/interim/embed_EMS_35M_together_<cls>.h5\n",
      "model compressed :/home/azureuser/cloudfiles/code/Users/s184243/AI4ProtEng_AIntibody/data/interim/embed_EMS_35M_together_G.h5\n",
      "model compressed :/home/azureuser/cloudfiles/code/Users/s184243/AI4ProtEng_AIntibody/data/interim/embed_EMS_35M_together_GGGGS.h5\n",
      "load:model_name\n"
     ]
    }
   ],
   "source": [
    "# Extrac embeding\n",
    "\n",
    "embed_to_load = [\"8M\",\"35M\",\"150M\"]\n",
    "chain_type = [\"together\",\"seperate\"]\n",
    "linker_type = [\"_<cls>\",\"_G\",\"_GGGGS\"]\n",
    "for embed in embed_to_load:\n",
    "    for chains in chain_type:\n",
    "        for linker in linker_type:\n",
    "            if chains == \"seperate\":\n",
    "                linker=\"\"\n",
    "            model_name = os.path.join(embed_dir, f'embed_EMS_{embed}_{chains}{linker}')\n",
    "            compress_name = model_name+\".h5\"\n",
    "            \n",
    "            if os.path.exists(compress_name):\n",
    "                print(f\"model compressed :{compress_name}\")\n",
    "            else:\n",
    "                if os.path.exists(model_name):\n",
    "                    print(f\"load:{model_name}\")\n",
    "                    with open(model_name, 'rb') as f:\n",
    "                        esm_output = pickle.load(f)\n",
    "                        del esm_output[\"contacts\"]\n",
    "\n",
    "\n",
    "                    layer = list(esm_output['representations'].keys())[0]\n",
    "                    embeddings = esm_output['representations'][layer]\n",
    "\n",
    "                    print(f\"Compressing :{compress_name}\")\n",
    "                    with h5py.File(compress_name, \"w\") as f:\n",
    "                        f.create_dataset(\"tensor\", data=embeddings.numpy(), compression=\"gzip\", compression_opts=9)\n",
    "\n",
    "                else:\n",
    "                    print(f\"no model :{model_name}\")\n"
   ]
  },
  {
   "cell_type": "code",
   "execution_count": 47,
   "metadata": {},
   "outputs": [
    {
     "name": "stdout",
     "output_type": "stream",
     "text": [
      "['embed_EMS_150_seperate', 'embed_EMS_150M_seperate', 'embed_EMS_8M_seperate', 'embed_EMS_150M_together', 'embed_EMS_8M_seperate_', 'embed_EMS_35M_seperate']\n"
     ]
    }
   ],
   "source": [
    "mypath = embed_dir\n",
    "from os.path import isfile, join\n",
    "from os import listdir\n",
    "onlyfiles = [f for f in listdir(mypath) if isfile(join(mypath, f))]\n",
    "onlyfiles\n",
    "\n",
    "# Separate base filenames and check for missing .h5 versions\n",
    "base_files = set(f for f in onlyfiles if not f.endswith(\".h5\"))\n",
    "compressed_files = set(f for f in onlyfiles if f.endswith(\".h5\"))\n",
    "\n",
    "\n",
    "\n",
    "# Find files without a compressed (.h5) version\n",
    "missing_compressed = [f for f in base_files if f + \".h5\" not in compressed_files]\n",
    "# print(missing_compressed)\n",
    "missing_compressed = [f for f in missing_compressed if \"650\" not in f]\n",
    "missing_compressed = [f for f in missing_compressed if \".git\" not in f]\n",
    "missing_compressed = [f for f in missing_compressed if \"cova\" not in f]\n",
    "missing_compressed = [f for f in missing_compressed if \"3B_\" not in f]\n",
    "print(missing_compressed)"
   ]
  }
 ],
 "metadata": {
  "kernelspec": {
   "display_name": "aipro",
   "language": "python",
   "name": "python3"
  },
  "language_info": {
   "codemirror_mode": {
    "name": "ipython",
    "version": 3
   },
   "file_extension": ".py",
   "mimetype": "text/x-python",
   "name": "python",
   "nbconvert_exporter": "python",
   "pygments_lexer": "ipython3",
   "version": "3.13.1"
  }
 },
 "nbformat": 4,
 "nbformat_minor": 2
}
